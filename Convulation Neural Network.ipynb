{
 "cells": [
  {
   "cell_type": "code",
   "id": "initial_id",
   "metadata": {
    "collapsed": true,
    "ExecuteTime": {
     "end_time": "2024-09-15T06:15:22.455436Z",
     "start_time": "2024-09-15T06:15:22.453034Z"
    }
   },
   "source": [
    "# Importing Libraries\n",
    "import tensorflow as tf\n",
    "from tensorflow.keras import layers, models\n",
    "from tensorflow.keras.datasets import mnist"
   ],
   "outputs": [],
   "execution_count": 11
  },
  {
   "metadata": {
    "ExecuteTime": {
     "end_time": "2024-09-15T06:15:22.539004Z",
     "start_time": "2024-09-15T06:15:22.456130Z"
    }
   },
   "cell_type": "code",
   "source": [
    "# Loading the MNIST dataset\n",
    "(train_images, train_labels), (test_images, test_labels) = mnist.load_data()\n",
    "\n"
   ],
   "id": "8748ea82218251e6",
   "outputs": [],
   "execution_count": 12
  },
  {
   "metadata": {
    "ExecuteTime": {
     "end_time": "2024-09-15T06:15:22.599449Z",
     "start_time": "2024-09-15T06:15:22.539637Z"
    }
   },
   "cell_type": "code",
   "source": [
    "# Preprocessing the data\n",
    "train_images = train_images.reshape((60000, 28, 28, 1)).astype('float32') / 255\n",
    "test_images = test_images.reshape((10000, 28, 28, 1)).astype('float32') / 255\n",
    "\n"
   ],
   "id": "6066990e2b7f00aa",
   "outputs": [],
   "execution_count": 13
  },
  {
   "metadata": {
    "ExecuteTime": {
     "end_time": "2024-09-15T06:15:22.619762Z",
     "start_time": "2024-09-15T06:15:22.600128Z"
    }
   },
   "cell_type": "code",
   "source": [
    "# Building the CNN model\n",
    "model = models.Sequential([\n",
    "    layers.Conv2D(32, (3, 3), activation='relu', input_shape=(28, 28, 1)),\n",
    "    layers.MaxPooling2D(2, 2),\n",
    "    layers.Conv2D(64, (3, 3), activation='relu'),\n",
    "    layers.MaxPooling2D(2, 2),\n",
    "    layers.Conv2D(64, (3, 3), activation='relu'),\n",
    "    layers.Flatten(),\n",
    "    layers.Dense(64, activation='relu'),\n",
    "    layers.Dense(10, activation='softmax')\n",
    "])"
   ],
   "id": "1e434605240e63df",
   "outputs": [],
   "execution_count": 14
  },
  {
   "metadata": {
    "ExecuteTime": {
     "end_time": "2024-09-15T06:15:22.624230Z",
     "start_time": "2024-09-15T06:15:22.620422Z"
    }
   },
   "cell_type": "code",
   "source": [
    "# Compiling the model\n",
    "model.compile(optimizer='adam',\n",
    "              loss='sparse_categorical_crossentropy',\n",
    "              metrics=['accuracy'])\n",
    "\n"
   ],
   "id": "81a4433370aa9902",
   "outputs": [],
   "execution_count": 15
  },
  {
   "metadata": {
    "ExecuteTime": {
     "end_time": "2024-09-15T06:16:12.761541Z",
     "start_time": "2024-09-15T06:15:22.624974Z"
    }
   },
   "cell_type": "code",
   "source": [
    "# Training the model\n",
    "history = model.fit(train_images, train_labels, epochs=5, batch_size=64, validation_split=0.2)\n",
    "\n"
   ],
   "id": "4db5073fda528d3b",
   "outputs": [
    {
     "name": "stdout",
     "output_type": "stream",
     "text": [
      "Epoch 1/5\n",
      "\u001B[1m750/750\u001B[0m \u001B[32m━━━━━━━━━━━━━━━━━━━━\u001B[0m\u001B[37m\u001B[0m \u001B[1m11s\u001B[0m 13ms/step - accuracy: 0.8561 - loss: 0.4820 - val_accuracy: 0.9788 - val_loss: 0.0681\n",
      "Epoch 2/5\n",
      "\u001B[1m750/750\u001B[0m \u001B[32m━━━━━━━━━━━━━━━━━━━━\u001B[0m\u001B[37m\u001B[0m \u001B[1m10s\u001B[0m 13ms/step - accuracy: 0.9800 - loss: 0.0618 - val_accuracy: 0.9853 - val_loss: 0.0483\n",
      "Epoch 3/5\n",
      "\u001B[1m750/750\u001B[0m \u001B[32m━━━━━━━━━━━━━━━━━━━━\u001B[0m\u001B[37m\u001B[0m \u001B[1m10s\u001B[0m 13ms/step - accuracy: 0.9869 - loss: 0.0403 - val_accuracy: 0.9876 - val_loss: 0.0475\n",
      "Epoch 4/5\n",
      "\u001B[1m750/750\u001B[0m \u001B[32m━━━━━━━━━━━━━━━━━━━━\u001B[0m\u001B[37m\u001B[0m \u001B[1m10s\u001B[0m 13ms/step - accuracy: 0.9902 - loss: 0.0300 - val_accuracy: 0.9857 - val_loss: 0.0449\n",
      "Epoch 5/5\n",
      "\u001B[1m750/750\u001B[0m \u001B[32m━━━━━━━━━━━━━━━━━━━━\u001B[0m\u001B[37m\u001B[0m \u001B[1m10s\u001B[0m 13ms/step - accuracy: 0.9921 - loss: 0.0237 - val_accuracy: 0.9884 - val_loss: 0.0430\n"
     ]
    }
   ],
   "execution_count": 16
  },
  {
   "metadata": {
    "ExecuteTime": {
     "end_time": "2024-09-15T06:16:13.799154Z",
     "start_time": "2024-09-15T06:16:12.762576Z"
    }
   },
   "cell_type": "code",
   "source": [
    "# Evaluating the model\n",
    "test_loss, test_acc = model.evaluate(test_images, test_labels)\n",
    "print(f'Test Accuracy: {test_acc}')"
   ],
   "id": "f09b4088f09322c8",
   "outputs": [
    {
     "name": "stdout",
     "output_type": "stream",
     "text": [
      "\u001B[1m313/313\u001B[0m \u001B[32m━━━━━━━━━━━━━━━━━━━━\u001B[0m\u001B[37m\u001B[0m \u001B[1m1s\u001B[0m 3ms/step - accuracy: 0.9868 - loss: 0.0445\n",
      "Test Accuracy: 0.989300012588501\n"
     ]
    }
   ],
   "execution_count": 17
  },
  {
   "metadata": {
    "ExecuteTime": {
     "end_time": "2024-09-15T06:16:13.801123Z",
     "start_time": "2024-09-15T06:16:13.799802Z"
    }
   },
   "cell_type": "code",
   "source": "",
   "id": "4c9fd781d8d12847",
   "outputs": [],
   "execution_count": 17
  }
 ],
 "metadata": {
  "kernelspec": {
   "display_name": "Python 3",
   "language": "python",
   "name": "python3"
  },
  "language_info": {
   "codemirror_mode": {
    "name": "ipython",
    "version": 2
   },
   "file_extension": ".py",
   "mimetype": "text/x-python",
   "name": "python",
   "nbconvert_exporter": "python",
   "pygments_lexer": "ipython2",
   "version": "2.7.6"
  }
 },
 "nbformat": 4,
 "nbformat_minor": 5
}
