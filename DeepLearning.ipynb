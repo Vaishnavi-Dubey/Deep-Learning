{
  "nbformat": 4,
  "nbformat_minor": 0,
  "metadata": {
    "colab": {
      "provenance": [],
      "gpuType": "T4",
      "authorship_tag": "ABX9TyOKvc1AOByPw7g+VrjHE1gz",
      "include_colab_link": true
    },
    "kernelspec": {
      "name": "python3",
      "display_name": "Python 3"
    },
    "language_info": {
      "name": "python"
    },
    "accelerator": "GPU"
  },
  "cells": [
    {
      "cell_type": "markdown",
      "metadata": {
        "id": "view-in-github",
        "colab_type": "text"
      },
      "source": [
        "<a href=\"https://colab.research.google.com/github/Vaishnavi-Dubey/Deep-Learning/blob/main/DeepLearning.ipynb\" target=\"_parent\"><img src=\"https://colab.research.google.com/assets/colab-badge.svg\" alt=\"Open In Colab\"/></a>"
      ]
    },
    {
      "cell_type": "code",
      "execution_count": 10,
      "metadata": {
        "id": "UdcrYblc_koU",
        "colab": {
          "base_uri": "https://localhost:8080/"
        },
        "outputId": "2b9230ed-b159-4dd3-cdad-e3ba2513e672"
      },
      "outputs": [
        {
          "output_type": "stream",
          "name": "stdout",
          "text": [
            "              Index  Height(Inches)  Weight(Pounds)\n",
            "count  25000.000000    25000.000000    25000.000000\n",
            "mean   12500.500000       67.993114      127.079421\n",
            "std     7217.022701        1.901679       11.660898\n",
            "min        1.000000       60.278360       78.014760\n",
            "25%     6250.750000       66.704397      119.308675\n",
            "50%    12500.500000       67.995700      127.157750\n",
            "75%    18750.250000       69.272958      134.892850\n",
            "max    25000.000000       75.152800      170.924000\n"
          ]
        }
      ],
      "source": [
        "import pandas as pd\n",
        "\n",
        "data = pd.read_csv('/Height Weight Data.csv')\n",
        "\n",
        "print(data.describe())"
      ]
    },
    {
      "cell_type": "code",
      "source": [],
      "metadata": {
        "id": "_PVlM6LkFBk5"
      },
      "execution_count": null,
      "outputs": []
    }
  ]
}