{
  "nbformat": 4,
  "nbformat_minor": 0,
  "metadata": {
    "colab": {
      "provenance": []
    },
    "kernelspec": {
      "name": "python3",
      "display_name": "Python 3"
    },
    "language_info": {
      "name": "python"
    }
  },
  "cells": [
    {
      "cell_type": "code",
      "execution_count": 1,
      "metadata": {
        "colab": {
          "base_uri": "https://localhost:8080/",
          "height": 378
        },
        "id": "7LmmdI3Yd3wo",
        "outputId": "9cae983c-baea-4970-cd5c-7dbee63ca772"
      },
      "outputs": [
        {
          "output_type": "error",
          "ename": "ImportError",
          "evalue": "cannot import name 'model' from 'tensorflow.keras.models' (/usr/local/lib/python3.11/dist-packages/keras/_tf_keras/keras/models/__init__.py)",
          "traceback": [
            "\u001b[0;31m---------------------------------------------------------------------------\u001b[0m",
            "\u001b[0;31mImportError\u001b[0m                               Traceback (most recent call last)",
            "\u001b[0;32m<ipython-input-1-0cde186ebf15>\u001b[0m in \u001b[0;36m<cell line: 0>\u001b[0;34m()\u001b[0m\n\u001b[1;32m      6\u001b[0m \u001b[0;32mfrom\u001b[0m \u001b[0mtensorflow\u001b[0m\u001b[0;34m.\u001b[0m\u001b[0mkeras\u001b[0m\u001b[0;34m.\u001b[0m\u001b[0mutils\u001b[0m \u001b[0;32mimport\u001b[0m \u001b[0mto_categorical\u001b[0m\u001b[0;34m\u001b[0m\u001b[0;34m\u001b[0m\u001b[0m\n\u001b[1;32m      7\u001b[0m \u001b[0;32mfrom\u001b[0m \u001b[0msklearn\u001b[0m\u001b[0;34m.\u001b[0m\u001b[0mpreprocessing\u001b[0m \u001b[0;32mimport\u001b[0m \u001b[0mLabelEncoder\u001b[0m\u001b[0;34m\u001b[0m\u001b[0;34m\u001b[0m\u001b[0m\n\u001b[0;32m----> 8\u001b[0;31m \u001b[0;32mfrom\u001b[0m \u001b[0mtensorflow\u001b[0m\u001b[0;34m.\u001b[0m\u001b[0mkeras\u001b[0m\u001b[0;34m.\u001b[0m\u001b[0mmodels\u001b[0m \u001b[0;32mimport\u001b[0m \u001b[0mmodel\u001b[0m\u001b[0;34m\u001b[0m\u001b[0;34m\u001b[0m\u001b[0m\n\u001b[0m\u001b[1;32m      9\u001b[0m \u001b[0;32mfrom\u001b[0m \u001b[0mtensorflow\u001b[0m\u001b[0;34m.\u001b[0m\u001b[0mkeras\u001b[0m\u001b[0;34m.\u001b[0m\u001b[0mlayers\u001b[0m \u001b[0;32mimport\u001b[0m \u001b[0mInput\u001b[0m\u001b[0;34m,\u001b[0m \u001b[0mEmbedding\u001b[0m\u001b[0;34m,\u001b[0m \u001b[0mLSTM\u001b[0m\u001b[0;34m,\u001b[0m \u001b[0mDense\u001b[0m\u001b[0;34m\u001b[0m\u001b[0;34m\u001b[0m\u001b[0m\n",
            "\u001b[0;31mImportError\u001b[0m: cannot import name 'model' from 'tensorflow.keras.models' (/usr/local/lib/python3.11/dist-packages/keras/_tf_keras/keras/models/__init__.py)",
            "",
            "\u001b[0;31m---------------------------------------------------------------------------\u001b[0;32m\nNOTE: If your import is failing due to a missing package, you can\nmanually install dependencies using either !pip or !apt.\n\nTo view examples of installing some common dependencies, click the\n\"Open Examples\" button below.\n\u001b[0;31m---------------------------------------------------------------------------\u001b[0m\n"
          ],
          "errorDetails": {
            "actions": [
              {
                "action": "open_url",
                "actionText": "Open Examples",
                "url": "/notebooks/snippets/importing_libraries.ipynb"
              }
            ]
          }
        }
      ],
      "source": [
        "#importing libraries\n",
        "import pandas as pd\n",
        "import numpy as np\n",
        "from tensorflow.keras.preprocessing.text import Tokenizer\n",
        "from tensorflow.keras.preprocessing.sequence import pad_sequences\n",
        "from tensorflow.keras.utils import to_categorical\n",
        "from sklearn.preprocessing import LabelEncoder\n",
        "from tensorflow.keras.models import model\n",
        "from tensorflow.keras.layers import Input, Embedding, LSTM, Dense"
      ]
    },
    {
      "cell_type": "code",
      "source": [
        "#loading the dataset\n",
        "data = pd.read_csv('medical_data.csv')\n",
        "data.head()"
      ],
      "metadata": {
        "colab": {
          "base_uri": "https://localhost:8080/",
          "height": 289
        },
        "id": "T_FVhLM5f2LZ",
        "outputId": "933da9fe-0842-495b-f0db-15e810113e61"
      },
      "execution_count": 3,
      "outputs": [
        {
          "output_type": "execute_result",
          "data": {
            "text/plain": [
              "                                     Patient_Problem  ...                                       Prescription\n",
              "0  Constant fatigue and muscle weakness, struggli...  ...  Cognitive behavioral therapy, graded exercise ...\n",
              "1  Frequent severe migraines, sensitivity to ligh...  ...  Prescription triptans, avoid triggers like bri...\n",
              "2  Sudden weight gain and feeling cold, especiall...  ...  Levothyroxine to regulate thyroid hormone levels.\n",
              "3  High fever, sore throat, and swollen lymph nod...  ...            Rest and hydration, ibuprofen for pain.\n",
              "4  Excessive thirst and frequent urination, dry m...  ...             Insulin therapy and lifestyle changes.\n",
              "\n",
              "[5 rows x 3 columns]"
            ],
            "text/html": [
              "\n",
              "  <div id=\"df-6545bfc4-123d-4e9c-8146-619d51f93f7c\" class=\"colab-df-container\">\n",
              "    <div>\n",
              "<style scoped>\n",
              "    .dataframe tbody tr th:only-of-type {\n",
              "        vertical-align: middle;\n",
              "    }\n",
              "\n",
              "    .dataframe tbody tr th {\n",
              "        vertical-align: top;\n",
              "    }\n",
              "\n",
              "    .dataframe thead th {\n",
              "        text-align: right;\n",
              "    }\n",
              "</style>\n",
              "<table border=\"1\" class=\"dataframe\">\n",
              "  <thead>\n",
              "    <tr style=\"text-align: right;\">\n",
              "      <th></th>\n",
              "      <th>Patient_Problem</th>\n",
              "      <th>Disease</th>\n",
              "      <th>Prescription</th>\n",
              "    </tr>\n",
              "  </thead>\n",
              "  <tbody>\n",
              "    <tr>\n",
              "      <th>0</th>\n",
              "      <td>Constant fatigue and muscle weakness, struggli...</td>\n",
              "      <td>Chronic Fatigue Syndrome</td>\n",
              "      <td>Cognitive behavioral therapy, graded exercise ...</td>\n",
              "    </tr>\n",
              "    <tr>\n",
              "      <th>1</th>\n",
              "      <td>Frequent severe migraines, sensitivity to ligh...</td>\n",
              "      <td>Migraine with Aura</td>\n",
              "      <td>Prescription triptans, avoid triggers like bri...</td>\n",
              "    </tr>\n",
              "    <tr>\n",
              "      <th>2</th>\n",
              "      <td>Sudden weight gain and feeling cold, especiall...</td>\n",
              "      <td>Hypothyroidism</td>\n",
              "      <td>Levothyroxine to regulate thyroid hormone levels.</td>\n",
              "    </tr>\n",
              "    <tr>\n",
              "      <th>3</th>\n",
              "      <td>High fever, sore throat, and swollen lymph nod...</td>\n",
              "      <td>Mononucleosis</td>\n",
              "      <td>Rest and hydration, ibuprofen for pain.</td>\n",
              "    </tr>\n",
              "    <tr>\n",
              "      <th>4</th>\n",
              "      <td>Excessive thirst and frequent urination, dry m...</td>\n",
              "      <td>Diabetes Mellitus</td>\n",
              "      <td>Insulin therapy and lifestyle changes.</td>\n",
              "    </tr>\n",
              "  </tbody>\n",
              "</table>\n",
              "</div>\n",
              "    <div class=\"colab-df-buttons\">\n",
              "\n",
              "  <div class=\"colab-df-container\">\n",
              "    <button class=\"colab-df-convert\" onclick=\"convertToInteractive('df-6545bfc4-123d-4e9c-8146-619d51f93f7c')\"\n",
              "            title=\"Convert this dataframe to an interactive table.\"\n",
              "            style=\"display:none;\">\n",
              "\n",
              "  <svg xmlns=\"http://www.w3.org/2000/svg\" height=\"24px\" viewBox=\"0 -960 960 960\">\n",
              "    <path d=\"M120-120v-720h720v720H120Zm60-500h600v-160H180v160Zm220 220h160v-160H400v160Zm0 220h160v-160H400v160ZM180-400h160v-160H180v160Zm440 0h160v-160H620v160ZM180-180h160v-160H180v160Zm440 0h160v-160H620v160Z\"/>\n",
              "  </svg>\n",
              "    </button>\n",
              "\n",
              "  <style>\n",
              "    .colab-df-container {\n",
              "      display:flex;\n",
              "      gap: 12px;\n",
              "    }\n",
              "\n",
              "    .colab-df-convert {\n",
              "      background-color: #E8F0FE;\n",
              "      border: none;\n",
              "      border-radius: 50%;\n",
              "      cursor: pointer;\n",
              "      display: none;\n",
              "      fill: #1967D2;\n",
              "      height: 32px;\n",
              "      padding: 0 0 0 0;\n",
              "      width: 32px;\n",
              "    }\n",
              "\n",
              "    .colab-df-convert:hover {\n",
              "      background-color: #E2EBFA;\n",
              "      box-shadow: 0px 1px 2px rgba(60, 64, 67, 0.3), 0px 1px 3px 1px rgba(60, 64, 67, 0.15);\n",
              "      fill: #174EA6;\n",
              "    }\n",
              "\n",
              "    .colab-df-buttons div {\n",
              "      margin-bottom: 4px;\n",
              "    }\n",
              "\n",
              "    [theme=dark] .colab-df-convert {\n",
              "      background-color: #3B4455;\n",
              "      fill: #D2E3FC;\n",
              "    }\n",
              "\n",
              "    [theme=dark] .colab-df-convert:hover {\n",
              "      background-color: #434B5C;\n",
              "      box-shadow: 0px 1px 3px 1px rgba(0, 0, 0, 0.15);\n",
              "      filter: drop-shadow(0px 1px 2px rgba(0, 0, 0, 0.3));\n",
              "      fill: #FFFFFF;\n",
              "    }\n",
              "  </style>\n",
              "\n",
              "    <script>\n",
              "      const buttonEl =\n",
              "        document.querySelector('#df-6545bfc4-123d-4e9c-8146-619d51f93f7c button.colab-df-convert');\n",
              "      buttonEl.style.display =\n",
              "        google.colab.kernel.accessAllowed ? 'block' : 'none';\n",
              "\n",
              "      async function convertToInteractive(key) {\n",
              "        const element = document.querySelector('#df-6545bfc4-123d-4e9c-8146-619d51f93f7c');\n",
              "        const dataTable =\n",
              "          await google.colab.kernel.invokeFunction('convertToInteractive',\n",
              "                                                    [key], {});\n",
              "        if (!dataTable) return;\n",
              "\n",
              "        const docLinkHtml = 'Like what you see? Visit the ' +\n",
              "          '<a target=\"_blank\" href=https://colab.research.google.com/notebooks/data_table.ipynb>data table notebook</a>'\n",
              "          + ' to learn more about interactive tables.';\n",
              "        element.innerHTML = '';\n",
              "        dataTable['output_type'] = 'display_data';\n",
              "        await google.colab.output.renderOutput(dataTable, element);\n",
              "        const docLink = document.createElement('div');\n",
              "        docLink.innerHTML = docLinkHtml;\n",
              "        element.appendChild(docLink);\n",
              "      }\n",
              "    </script>\n",
              "  </div>\n",
              "\n",
              "\n",
              "<div id=\"df-6303b97a-b0ac-4c60-b4d5-3b8adbae8f02\">\n",
              "  <button class=\"colab-df-quickchart\" onclick=\"quickchart('df-6303b97a-b0ac-4c60-b4d5-3b8adbae8f02')\"\n",
              "            title=\"Suggest charts\"\n",
              "            style=\"display:none;\">\n",
              "\n",
              "<svg xmlns=\"http://www.w3.org/2000/svg\" height=\"24px\"viewBox=\"0 0 24 24\"\n",
              "     width=\"24px\">\n",
              "    <g>\n",
              "        <path d=\"M19 3H5c-1.1 0-2 .9-2 2v14c0 1.1.9 2 2 2h14c1.1 0 2-.9 2-2V5c0-1.1-.9-2-2-2zM9 17H7v-7h2v7zm4 0h-2V7h2v10zm4 0h-2v-4h2v4z\"/>\n",
              "    </g>\n",
              "</svg>\n",
              "  </button>\n",
              "\n",
              "<style>\n",
              "  .colab-df-quickchart {\n",
              "      --bg-color: #E8F0FE;\n",
              "      --fill-color: #1967D2;\n",
              "      --hover-bg-color: #E2EBFA;\n",
              "      --hover-fill-color: #174EA6;\n",
              "      --disabled-fill-color: #AAA;\n",
              "      --disabled-bg-color: #DDD;\n",
              "  }\n",
              "\n",
              "  [theme=dark] .colab-df-quickchart {\n",
              "      --bg-color: #3B4455;\n",
              "      --fill-color: #D2E3FC;\n",
              "      --hover-bg-color: #434B5C;\n",
              "      --hover-fill-color: #FFFFFF;\n",
              "      --disabled-bg-color: #3B4455;\n",
              "      --disabled-fill-color: #666;\n",
              "  }\n",
              "\n",
              "  .colab-df-quickchart {\n",
              "    background-color: var(--bg-color);\n",
              "    border: none;\n",
              "    border-radius: 50%;\n",
              "    cursor: pointer;\n",
              "    display: none;\n",
              "    fill: var(--fill-color);\n",
              "    height: 32px;\n",
              "    padding: 0;\n",
              "    width: 32px;\n",
              "  }\n",
              "\n",
              "  .colab-df-quickchart:hover {\n",
              "    background-color: var(--hover-bg-color);\n",
              "    box-shadow: 0 1px 2px rgba(60, 64, 67, 0.3), 0 1px 3px 1px rgba(60, 64, 67, 0.15);\n",
              "    fill: var(--button-hover-fill-color);\n",
              "  }\n",
              "\n",
              "  .colab-df-quickchart-complete:disabled,\n",
              "  .colab-df-quickchart-complete:disabled:hover {\n",
              "    background-color: var(--disabled-bg-color);\n",
              "    fill: var(--disabled-fill-color);\n",
              "    box-shadow: none;\n",
              "  }\n",
              "\n",
              "  .colab-df-spinner {\n",
              "    border: 2px solid var(--fill-color);\n",
              "    border-color: transparent;\n",
              "    border-bottom-color: var(--fill-color);\n",
              "    animation:\n",
              "      spin 1s steps(1) infinite;\n",
              "  }\n",
              "\n",
              "  @keyframes spin {\n",
              "    0% {\n",
              "      border-color: transparent;\n",
              "      border-bottom-color: var(--fill-color);\n",
              "      border-left-color: var(--fill-color);\n",
              "    }\n",
              "    20% {\n",
              "      border-color: transparent;\n",
              "      border-left-color: var(--fill-color);\n",
              "      border-top-color: var(--fill-color);\n",
              "    }\n",
              "    30% {\n",
              "      border-color: transparent;\n",
              "      border-left-color: var(--fill-color);\n",
              "      border-top-color: var(--fill-color);\n",
              "      border-right-color: var(--fill-color);\n",
              "    }\n",
              "    40% {\n",
              "      border-color: transparent;\n",
              "      border-right-color: var(--fill-color);\n",
              "      border-top-color: var(--fill-color);\n",
              "    }\n",
              "    60% {\n",
              "      border-color: transparent;\n",
              "      border-right-color: var(--fill-color);\n",
              "    }\n",
              "    80% {\n",
              "      border-color: transparent;\n",
              "      border-right-color: var(--fill-color);\n",
              "      border-bottom-color: var(--fill-color);\n",
              "    }\n",
              "    90% {\n",
              "      border-color: transparent;\n",
              "      border-bottom-color: var(--fill-color);\n",
              "    }\n",
              "  }\n",
              "</style>\n",
              "\n",
              "  <script>\n",
              "    async function quickchart(key) {\n",
              "      const quickchartButtonEl =\n",
              "        document.querySelector('#' + key + ' button');\n",
              "      quickchartButtonEl.disabled = true;  // To prevent multiple clicks.\n",
              "      quickchartButtonEl.classList.add('colab-df-spinner');\n",
              "      try {\n",
              "        const charts = await google.colab.kernel.invokeFunction(\n",
              "            'suggestCharts', [key], {});\n",
              "      } catch (error) {\n",
              "        console.error('Error during call to suggestCharts:', error);\n",
              "      }\n",
              "      quickchartButtonEl.classList.remove('colab-df-spinner');\n",
              "      quickchartButtonEl.classList.add('colab-df-quickchart-complete');\n",
              "    }\n",
              "    (() => {\n",
              "      let quickchartButtonEl =\n",
              "        document.querySelector('#df-6303b97a-b0ac-4c60-b4d5-3b8adbae8f02 button');\n",
              "      quickchartButtonEl.style.display =\n",
              "        google.colab.kernel.accessAllowed ? 'block' : 'none';\n",
              "    })();\n",
              "  </script>\n",
              "</div>\n",
              "\n",
              "    </div>\n",
              "  </div>\n"
            ],
            "application/vnd.google.colaboratory.intrinsic+json": {
              "type": "dataframe",
              "variable_name": "data",
              "summary": "{\n  \"name\": \"data\",\n  \"rows\": 407,\n  \"fields\": [\n    {\n      \"column\": \"Patient_Problem\",\n      \"properties\": {\n        \"dtype\": \"string\",\n        \"num_unique_values\": 407,\n        \"samples\": [\n          \"Excessive sweating even in cool temperatures.\",\n          \"I've noticed blood in my stool and unexplained abdominal pain.\",\n          \"Experiencing memory lapses and difficulty concentrating on daily tasks.\"\n        ],\n        \"semantic_type\": \"\",\n        \"description\": \"\"\n      }\n    },\n    {\n      \"column\": \"Disease\",\n      \"properties\": {\n        \"dtype\": \"category\",\n        \"num_unique_values\": 178,\n        \"samples\": [\n          \"Early Onset Dementia\",\n          \"Streptococcal Pharyngitis\",\n          \"Uveitis\"\n        ],\n        \"semantic_type\": \"\",\n        \"description\": \"\"\n      }\n    },\n    {\n      \"column\": \"Prescription\",\n      \"properties\": {\n        \"dtype\": \"string\",\n        \"num_unique_values\": 388,\n        \"samples\": [\n          \"Regular eye exams; consider anti-VEGF therapy.\",\n          \"Balanced diet; regular exercise; CBT for mental health.\",\n          \"Adopt good sleep hygiene; consider melatonin supplements.\"\n        ],\n        \"semantic_type\": \"\",\n        \"description\": \"\"\n      }\n    }\n  ]\n}"
            }
          },
          "metadata": {},
          "execution_count": 3
        }
      ]
    },
    {
      "cell_type": "code",
      "source": [
        "#tokenizing and sequencing text data\n",
        "tokenizer = Tokenizer(num_words=5000, oov_token=\"<00V>\")\n",
        "tokenizer.fit_on_texts(data['Patient_Problem'])\n",
        "\n",
        "sequences = tokenizer.texts_to_sequences(data['Patient_Problem'])"
      ],
      "metadata": {
        "id": "LimOy715gA_e"
      },
      "execution_count": 4,
      "outputs": []
    },
    {
      "cell_type": "code",
      "source": [
        "max_length = max(len(x) for x in sequences)\n",
        "padded_sequences = pad_sequences(sequences, maxlen = max_length, padding='post')"
      ],
      "metadata": {
        "id": "pP_f5yGtgxUX"
      },
      "execution_count": 5,
      "outputs": []
    },
    {
      "cell_type": "code",
      "source": [
        "#encoding the labels\n",
        "label_encoder_disease = LabelEncoder()\n",
        "label_encoder_prescription = LabelEncoder()\n",
        "\n",
        "disease_labels = label_encoder_disease.fit_transform(data['Disease'])\n",
        "prescription_labels = label_encoder_prescription.fit_transform(data['Prescription'])\n",
        "\n",
        "#converting labels to categorical\n",
        "disease_labels_categorical = to_categorical(disease_labels)\n",
        "prescription_labels_categorical = to_categorical(prescription_labels)"
      ],
      "metadata": {
        "id": "1Yt1q24BiZEd"
      },
      "execution_count": 6,
      "outputs": []
    },
    {
      "cell_type": "code",
      "source": [
        "#combining labels into  a multi label target value\n",
        "Y = np.hstack((disease_labels_categorical, prescription_labels_categorical))"
      ],
      "metadata": {
        "id": "Hog_PHc7i-3I"
      },
      "execution_count": 7,
      "outputs": []
    },
    {
      "cell_type": "code",
      "source": [
        "from tensorflow.keras.layers import Input, Embedding, LSTM, Dense\n",
        "from tensorflow.keras.models import Model\n"
      ],
      "metadata": {
        "id": "O5Hp5SCakhs0"
      },
      "execution_count": 10,
      "outputs": []
    },
    {
      "cell_type": "code",
      "source": [
        "#defining model architecture\n",
        "input_layer = Input(shape=(max_length,))\n",
        "\n",
        "embedding = Embedding(input_dim=5000, output_dim=64)(input_layer)\n",
        "lstm_layer = LSTM(64)(embedding)\n",
        "\n",
        "disease_output = Dense(len(label_encoder_disease.classes_), activation='softmax',\n",
        "name='disease_output')(lstm_layer)\n",
        "\n",
        "prescription_output = Dense(len(label_encoder_prescription.classes_),\n",
        "activation='softmax', name='prescription_output')(lstm_layer)\n"
      ],
      "metadata": {
        "id": "WLJTo2hujIzj"
      },
      "execution_count": 11,
      "outputs": []
    },
    {
      "cell_type": "code",
      "source": [
        "#Compiling the model\n",
        "model = Model(inputs=input_layer, outputs=[disease_output, prescription_output])\n",
        "\n",
        "model.compile(\n",
        "    loss={'disease_output': 'categorical_crossentropy',\n",
        "    'prescription_output': 'categorical_crossentropy'},\n",
        "    optimizer='adam',\n",
        "    metrics={'disease_output': ['accuracy'], 'prescription_output': ['accuracy']}\n",
        ")\n",
        "\n",
        "model.summary()\n"
      ],
      "metadata": {
        "colab": {
          "base_uri": "https://localhost:8080/",
          "height": 305
        },
        "id": "vgjUOvcSkCiZ",
        "outputId": "526381a0-84ce-424c-b936-5b19acc9b18d"
      },
      "execution_count": 12,
      "outputs": [
        {
          "output_type": "display_data",
          "data": {
            "text/plain": [
              "\u001b[1mModel: \"functional\"\u001b[0m\n"
            ],
            "text/html": [
              "<pre style=\"white-space:pre;overflow-x:auto;line-height:normal;font-family:Menlo,'DejaVu Sans Mono',consolas,'Courier New',monospace\"><span style=\"font-weight: bold\">Model: \"functional\"</span>\n",
              "</pre>\n"
            ]
          },
          "metadata": {}
        },
        {
          "output_type": "display_data",
          "data": {
            "text/plain": [
              "┏━━━━━━━━━━━━━━━━━━━━━━━━━━━┳━━━━━━━━━━━━━━━━━━━━━━━━┳━━━━━━━━━━━━━━━━┳━━━━━━━━━━━━━━━━━━━━━━━━┓\n",
              "┃\u001b[1m \u001b[0m\u001b[1mLayer (type)             \u001b[0m\u001b[1m \u001b[0m┃\u001b[1m \u001b[0m\u001b[1mOutput Shape          \u001b[0m\u001b[1m \u001b[0m┃\u001b[1m \u001b[0m\u001b[1m       Param #\u001b[0m\u001b[1m \u001b[0m┃\u001b[1m \u001b[0m\u001b[1mConnected to          \u001b[0m\u001b[1m \u001b[0m┃\n",
              "┡━━━━━━━━━━━━━━━━━━━━━━━━━━━╇━━━━━━━━━━━━━━━━━━━━━━━━╇━━━━━━━━━━━━━━━━╇━━━━━━━━━━━━━━━━━━━━━━━━┩\n",
              "│ input_layer (\u001b[38;5;33mInputLayer\u001b[0m)  │ (\u001b[38;5;45mNone\u001b[0m, \u001b[38;5;34m17\u001b[0m)             │              \u001b[38;5;34m0\u001b[0m │ -                      │\n",
              "├───────────────────────────┼────────────────────────┼────────────────┼────────────────────────┤\n",
              "│ embedding (\u001b[38;5;33mEmbedding\u001b[0m)     │ (\u001b[38;5;45mNone\u001b[0m, \u001b[38;5;34m17\u001b[0m, \u001b[38;5;34m64\u001b[0m)         │        \u001b[38;5;34m320,000\u001b[0m │ input_layer[\u001b[38;5;34m0\u001b[0m][\u001b[38;5;34m0\u001b[0m]      │\n",
              "├───────────────────────────┼────────────────────────┼────────────────┼────────────────────────┤\n",
              "│ lstm (\u001b[38;5;33mLSTM\u001b[0m)               │ (\u001b[38;5;45mNone\u001b[0m, \u001b[38;5;34m64\u001b[0m)             │         \u001b[38;5;34m33,024\u001b[0m │ embedding[\u001b[38;5;34m0\u001b[0m][\u001b[38;5;34m0\u001b[0m]        │\n",
              "├───────────────────────────┼────────────────────────┼────────────────┼────────────────────────┤\n",
              "│ disease_output (\u001b[38;5;33mDense\u001b[0m)    │ (\u001b[38;5;45mNone\u001b[0m, \u001b[38;5;34m178\u001b[0m)            │         \u001b[38;5;34m11,570\u001b[0m │ lstm[\u001b[38;5;34m0\u001b[0m][\u001b[38;5;34m0\u001b[0m]             │\n",
              "├───────────────────────────┼────────────────────────┼────────────────┼────────────────────────┤\n",
              "│ prescription_output       │ (\u001b[38;5;45mNone\u001b[0m, \u001b[38;5;34m388\u001b[0m)            │         \u001b[38;5;34m25,220\u001b[0m │ lstm[\u001b[38;5;34m0\u001b[0m][\u001b[38;5;34m0\u001b[0m]             │\n",
              "│ (\u001b[38;5;33mDense\u001b[0m)                   │                        │                │                        │\n",
              "└───────────────────────────┴────────────────────────┴────────────────┴────────────────────────┘\n"
            ],
            "text/html": [
              "<pre style=\"white-space:pre;overflow-x:auto;line-height:normal;font-family:Menlo,'DejaVu Sans Mono',consolas,'Courier New',monospace\">┏━━━━━━━━━━━━━━━━━━━━━━━━━━━┳━━━━━━━━━━━━━━━━━━━━━━━━┳━━━━━━━━━━━━━━━━┳━━━━━━━━━━━━━━━━━━━━━━━━┓\n",
              "┃<span style=\"font-weight: bold\"> Layer (type)              </span>┃<span style=\"font-weight: bold\"> Output Shape           </span>┃<span style=\"font-weight: bold\">        Param # </span>┃<span style=\"font-weight: bold\"> Connected to           </span>┃\n",
              "┡━━━━━━━━━━━━━━━━━━━━━━━━━━━╇━━━━━━━━━━━━━━━━━━━━━━━━╇━━━━━━━━━━━━━━━━╇━━━━━━━━━━━━━━━━━━━━━━━━┩\n",
              "│ input_layer (<span style=\"color: #0087ff; text-decoration-color: #0087ff\">InputLayer</span>)  │ (<span style=\"color: #00d7ff; text-decoration-color: #00d7ff\">None</span>, <span style=\"color: #00af00; text-decoration-color: #00af00\">17</span>)             │              <span style=\"color: #00af00; text-decoration-color: #00af00\">0</span> │ -                      │\n",
              "├───────────────────────────┼────────────────────────┼────────────────┼────────────────────────┤\n",
              "│ embedding (<span style=\"color: #0087ff; text-decoration-color: #0087ff\">Embedding</span>)     │ (<span style=\"color: #00d7ff; text-decoration-color: #00d7ff\">None</span>, <span style=\"color: #00af00; text-decoration-color: #00af00\">17</span>, <span style=\"color: #00af00; text-decoration-color: #00af00\">64</span>)         │        <span style=\"color: #00af00; text-decoration-color: #00af00\">320,000</span> │ input_layer[<span style=\"color: #00af00; text-decoration-color: #00af00\">0</span>][<span style=\"color: #00af00; text-decoration-color: #00af00\">0</span>]      │\n",
              "├───────────────────────────┼────────────────────────┼────────────────┼────────────────────────┤\n",
              "│ lstm (<span style=\"color: #0087ff; text-decoration-color: #0087ff\">LSTM</span>)               │ (<span style=\"color: #00d7ff; text-decoration-color: #00d7ff\">None</span>, <span style=\"color: #00af00; text-decoration-color: #00af00\">64</span>)             │         <span style=\"color: #00af00; text-decoration-color: #00af00\">33,024</span> │ embedding[<span style=\"color: #00af00; text-decoration-color: #00af00\">0</span>][<span style=\"color: #00af00; text-decoration-color: #00af00\">0</span>]        │\n",
              "├───────────────────────────┼────────────────────────┼────────────────┼────────────────────────┤\n",
              "│ disease_output (<span style=\"color: #0087ff; text-decoration-color: #0087ff\">Dense</span>)    │ (<span style=\"color: #00d7ff; text-decoration-color: #00d7ff\">None</span>, <span style=\"color: #00af00; text-decoration-color: #00af00\">178</span>)            │         <span style=\"color: #00af00; text-decoration-color: #00af00\">11,570</span> │ lstm[<span style=\"color: #00af00; text-decoration-color: #00af00\">0</span>][<span style=\"color: #00af00; text-decoration-color: #00af00\">0</span>]             │\n",
              "├───────────────────────────┼────────────────────────┼────────────────┼────────────────────────┤\n",
              "│ prescription_output       │ (<span style=\"color: #00d7ff; text-decoration-color: #00d7ff\">None</span>, <span style=\"color: #00af00; text-decoration-color: #00af00\">388</span>)            │         <span style=\"color: #00af00; text-decoration-color: #00af00\">25,220</span> │ lstm[<span style=\"color: #00af00; text-decoration-color: #00af00\">0</span>][<span style=\"color: #00af00; text-decoration-color: #00af00\">0</span>]             │\n",
              "│ (<span style=\"color: #0087ff; text-decoration-color: #0087ff\">Dense</span>)                   │                        │                │                        │\n",
              "└───────────────────────────┴────────────────────────┴────────────────┴────────────────────────┘\n",
              "</pre>\n"
            ]
          },
          "metadata": {}
        },
        {
          "output_type": "display_data",
          "data": {
            "text/plain": [
              "\u001b[1m Total params: \u001b[0m\u001b[38;5;34m389,814\u001b[0m (1.49 MB)\n"
            ],
            "text/html": [
              "<pre style=\"white-space:pre;overflow-x:auto;line-height:normal;font-family:Menlo,'DejaVu Sans Mono',consolas,'Courier New',monospace\"><span style=\"font-weight: bold\"> Total params: </span><span style=\"color: #00af00; text-decoration-color: #00af00\">389,814</span> (1.49 MB)\n",
              "</pre>\n"
            ]
          },
          "metadata": {}
        },
        {
          "output_type": "display_data",
          "data": {
            "text/plain": [
              "\u001b[1m Trainable params: \u001b[0m\u001b[38;5;34m389,814\u001b[0m (1.49 MB)\n"
            ],
            "text/html": [
              "<pre style=\"white-space:pre;overflow-x:auto;line-height:normal;font-family:Menlo,'DejaVu Sans Mono',consolas,'Courier New',monospace\"><span style=\"font-weight: bold\"> Trainable params: </span><span style=\"color: #00af00; text-decoration-color: #00af00\">389,814</span> (1.49 MB)\n",
              "</pre>\n"
            ]
          },
          "metadata": {}
        },
        {
          "output_type": "display_data",
          "data": {
            "text/plain": [
              "\u001b[1m Non-trainable params: \u001b[0m\u001b[38;5;34m0\u001b[0m (0.00 B)\n"
            ],
            "text/html": [
              "<pre style=\"white-space:pre;overflow-x:auto;line-height:normal;font-family:Menlo,'DejaVu Sans Mono',consolas,'Courier New',monospace\"><span style=\"font-weight: bold\"> Non-trainable params: </span><span style=\"color: #00af00; text-decoration-color: #00af00\">0</span> (0.00 B)\n",
              "</pre>\n"
            ]
          },
          "metadata": {}
        }
      ]
    },
    {
      "cell_type": "code",
      "source": [
        "#training the model\n",
        "model.fit(padded_sequences, {'disease_output': disease_labels_categorical, 'prescription_output':\n",
        "      prescription_labels_categorical}, epochs=100, batch_size=32)"
      ],
      "metadata": {
        "colab": {
          "base_uri": "https://localhost:8080/"
        },
        "id": "QhvkxA5-kx5c",
        "outputId": "af66cce6-4d6d-481f-efa6-c7c885021ea5"
      },
      "execution_count": 13,
      "outputs": [
        {
          "output_type": "stream",
          "name": "stdout",
          "text": [
            "Epoch 1/100\n",
            "\u001b[1m13/13\u001b[0m \u001b[32m━━━━━━━━━━━━━━━━━━━━\u001b[0m\u001b[37m\u001b[0m \u001b[1m4s\u001b[0m 18ms/step - disease_output_accuracy: 0.0142 - disease_output_loss: 5.1794 - loss: 11.1435 - prescription_output_accuracy: 0.0000e+00 - prescription_output_loss: 5.9641\n",
            "Epoch 2/100\n",
            "\u001b[1m13/13\u001b[0m \u001b[32m━━━━━━━━━━━━━━━━━━━━\u001b[0m\u001b[37m\u001b[0m \u001b[1m0s\u001b[0m 18ms/step - disease_output_accuracy: 0.0287 - disease_output_loss: 5.1637 - loss: 11.1250 - prescription_output_accuracy: 0.0039 - prescription_output_loss: 5.9614\n",
            "Epoch 3/100\n",
            "\u001b[1m13/13\u001b[0m \u001b[32m━━━━━━━━━━━━━━━━━━━━\u001b[0m\u001b[37m\u001b[0m \u001b[1m0s\u001b[0m 17ms/step - disease_output_accuracy: 0.0211 - disease_output_loss: 5.1150 - loss: 11.0753 - prescription_output_accuracy: 0.0050 - prescription_output_loss: 5.9603\n",
            "Epoch 4/100\n",
            "\u001b[1m13/13\u001b[0m \u001b[32m━━━━━━━━━━━━━━━━━━━━\u001b[0m\u001b[37m\u001b[0m \u001b[1m0s\u001b[0m 18ms/step - disease_output_accuracy: 0.0410 - disease_output_loss: 4.9644 - loss: 10.9317 - prescription_output_accuracy: 0.0139 - prescription_output_loss: 5.9679\n",
            "Epoch 5/100\n",
            "\u001b[1m13/13\u001b[0m \u001b[32m━━━━━━━━━━━━━━━━━━━━\u001b[0m\u001b[37m\u001b[0m \u001b[1m0s\u001b[0m 18ms/step - disease_output_accuracy: 0.0111 - disease_output_loss: 4.9171 - loss: 10.8587 - prescription_output_accuracy: 0.0130 - prescription_output_loss: 5.9414\n",
            "Epoch 6/100\n",
            "\u001b[1m13/13\u001b[0m \u001b[32m━━━━━━━━━━━━━━━━━━━━\u001b[0m\u001b[37m\u001b[0m \u001b[1m0s\u001b[0m 19ms/step - disease_output_accuracy: 0.0265 - disease_output_loss: 4.8350 - loss: 10.7357 - prescription_output_accuracy: 0.0118 - prescription_output_loss: 5.8997\n",
            "Epoch 7/100\n",
            "\u001b[1m13/13\u001b[0m \u001b[32m━━━━━━━━━━━━━━━━━━━━\u001b[0m\u001b[37m\u001b[0m \u001b[1m0s\u001b[0m 17ms/step - disease_output_accuracy: 0.0354 - disease_output_loss: 4.7202 - loss: 10.5962 - prescription_output_accuracy: 0.0114 - prescription_output_loss: 5.8762\n",
            "Epoch 8/100\n",
            "\u001b[1m13/13\u001b[0m \u001b[32m━━━━━━━━━━━━━━━━━━━━\u001b[0m\u001b[37m\u001b[0m \u001b[1m0s\u001b[0m 18ms/step - disease_output_accuracy: 0.0535 - disease_output_loss: 4.6258 - loss: 10.4131 - prescription_output_accuracy: 0.0203 - prescription_output_loss: 5.7881\n",
            "Epoch 9/100\n",
            "\u001b[1m13/13\u001b[0m \u001b[32m━━━━━━━━━━━━━━━━━━━━\u001b[0m\u001b[37m\u001b[0m \u001b[1m0s\u001b[0m 17ms/step - disease_output_accuracy: 0.0488 - disease_output_loss: 4.5262 - loss: 10.2377 - prescription_output_accuracy: 0.0214 - prescription_output_loss: 5.7115\n",
            "Epoch 10/100\n",
            "\u001b[1m13/13\u001b[0m \u001b[32m━━━━━━━━━━━━━━━━━━━━\u001b[0m\u001b[37m\u001b[0m \u001b[1m0s\u001b[0m 17ms/step - disease_output_accuracy: 0.0637 - disease_output_loss: 4.4185 - loss: 10.0475 - prescription_output_accuracy: 0.0231 - prescription_output_loss: 5.6297\n",
            "Epoch 11/100\n",
            "\u001b[1m13/13\u001b[0m \u001b[32m━━━━━━━━━━━━━━━━━━━━\u001b[0m\u001b[37m\u001b[0m \u001b[1m0s\u001b[0m 17ms/step - disease_output_accuracy: 0.0703 - disease_output_loss: 4.2283 - loss: 9.7766 - prescription_output_accuracy: 0.0151 - prescription_output_loss: 5.5485\n",
            "Epoch 12/100\n",
            "\u001b[1m13/13\u001b[0m \u001b[32m━━━━━━━━━━━━━━━━━━━━\u001b[0m\u001b[37m\u001b[0m \u001b[1m0s\u001b[0m 17ms/step - disease_output_accuracy: 0.0671 - disease_output_loss: 4.2866 - loss: 9.7505 - prescription_output_accuracy: 0.0216 - prescription_output_loss: 5.4633\n",
            "Epoch 13/100\n",
            "\u001b[1m13/13\u001b[0m \u001b[32m━━━━━━━━━━━━━━━━━━━━\u001b[0m\u001b[37m\u001b[0m \u001b[1m0s\u001b[0m 19ms/step - disease_output_accuracy: 0.0967 - disease_output_loss: 4.1704 - loss: 9.5411 - prescription_output_accuracy: 0.0259 - prescription_output_loss: 5.3718\n",
            "Epoch 14/100\n",
            "\u001b[1m13/13\u001b[0m \u001b[32m━━━━━━━━━━━━━━━━━━━━\u001b[0m\u001b[37m\u001b[0m \u001b[1m0s\u001b[0m 17ms/step - disease_output_accuracy: 0.1035 - disease_output_loss: 3.9958 - loss: 9.2637 - prescription_output_accuracy: 0.0229 - prescription_output_loss: 5.2682\n",
            "Epoch 15/100\n",
            "\u001b[1m13/13\u001b[0m \u001b[32m━━━━━━━━━━━━━━━━━━━━\u001b[0m\u001b[37m\u001b[0m \u001b[1m0s\u001b[0m 18ms/step - disease_output_accuracy: 0.1017 - disease_output_loss: 3.9348 - loss: 9.1124 - prescription_output_accuracy: 0.0486 - prescription_output_loss: 5.1771\n",
            "Epoch 16/100\n",
            "\u001b[1m13/13\u001b[0m \u001b[32m━━━━━━━━━━━━━━━━━━━━\u001b[0m\u001b[37m\u001b[0m \u001b[1m0s\u001b[0m 18ms/step - disease_output_accuracy: 0.0949 - disease_output_loss: 3.8787 - loss: 8.9638 - prescription_output_accuracy: 0.0429 - prescription_output_loss: 5.0857\n",
            "Epoch 17/100\n",
            "\u001b[1m13/13\u001b[0m \u001b[32m━━━━━━━━━━━━━━━━━━━━\u001b[0m\u001b[37m\u001b[0m \u001b[1m0s\u001b[0m 19ms/step - disease_output_accuracy: 0.1374 - disease_output_loss: 3.7369 - loss: 8.7480 - prescription_output_accuracy: 0.0370 - prescription_output_loss: 5.0128\n",
            "Epoch 18/100\n",
            "\u001b[1m13/13\u001b[0m \u001b[32m━━━━━━━━━━━━━━━━━━━━\u001b[0m\u001b[37m\u001b[0m \u001b[1m0s\u001b[0m 19ms/step - disease_output_accuracy: 0.1345 - disease_output_loss: 3.6781 - loss: 8.6095 - prescription_output_accuracy: 0.0470 - prescription_output_loss: 4.9313\n",
            "Epoch 19/100\n",
            "\u001b[1m13/13\u001b[0m \u001b[32m━━━━━━━━━━━━━━━━━━━━\u001b[0m\u001b[37m\u001b[0m \u001b[1m0s\u001b[0m 17ms/step - disease_output_accuracy: 0.1441 - disease_output_loss: 3.6525 - loss: 8.5030 - prescription_output_accuracy: 0.0586 - prescription_output_loss: 4.8514\n",
            "Epoch 20/100\n",
            "\u001b[1m13/13\u001b[0m \u001b[32m━━━━━━━━━━━━━━━━━━━━\u001b[0m\u001b[37m\u001b[0m \u001b[1m0s\u001b[0m 31ms/step - disease_output_accuracy: 0.1647 - disease_output_loss: 3.5683 - loss: 8.3366 - prescription_output_accuracy: 0.0445 - prescription_output_loss: 4.7698\n",
            "Epoch 21/100\n",
            "\u001b[1m13/13\u001b[0m \u001b[32m━━━━━━━━━━━━━━━━━━━━\u001b[0m\u001b[37m\u001b[0m \u001b[1m0s\u001b[0m 31ms/step - disease_output_accuracy: 0.1812 - disease_output_loss: 3.4052 - loss: 8.0899 - prescription_output_accuracy: 0.0631 - prescription_output_loss: 4.6851\n",
            "Epoch 22/100\n",
            "\u001b[1m13/13\u001b[0m \u001b[32m━━━━━━━━━━━━━━━━━━━━\u001b[0m\u001b[37m\u001b[0m \u001b[1m1s\u001b[0m 30ms/step - disease_output_accuracy: 0.2132 - disease_output_loss: 3.2924 - loss: 7.9057 - prescription_output_accuracy: 0.0820 - prescription_output_loss: 4.6141\n",
            "Epoch 23/100\n",
            "\u001b[1m13/13\u001b[0m \u001b[32m━━━━━━━━━━━━━━━━━━━━\u001b[0m\u001b[37m\u001b[0m \u001b[1m1s\u001b[0m 32ms/step - disease_output_accuracy: 0.2215 - disease_output_loss: 3.2140 - loss: 7.7676 - prescription_output_accuracy: 0.0460 - prescription_output_loss: 4.5544\n",
            "Epoch 24/100\n",
            "\u001b[1m13/13\u001b[0m \u001b[32m━━━━━━━━━━━━━━━━━━━━\u001b[0m\u001b[37m\u001b[0m \u001b[1m0s\u001b[0m 19ms/step - disease_output_accuracy: 0.2409 - disease_output_loss: 3.1997 - loss: 7.6961 - prescription_output_accuracy: 0.0876 - prescription_output_loss: 4.4964\n",
            "Epoch 25/100\n",
            "\u001b[1m13/13\u001b[0m \u001b[32m━━━━━━━━━━━━━━━━━━━━\u001b[0m\u001b[37m\u001b[0m \u001b[1m0s\u001b[0m 18ms/step - disease_output_accuracy: 0.2218 - disease_output_loss: 3.1870 - loss: 7.6067 - prescription_output_accuracy: 0.0911 - prescription_output_loss: 4.4203\n",
            "Epoch 26/100\n",
            "\u001b[1m13/13\u001b[0m \u001b[32m━━━━━━━━━━━━━━━━━━━━\u001b[0m\u001b[37m\u001b[0m \u001b[1m0s\u001b[0m 17ms/step - disease_output_accuracy: 0.2441 - disease_output_loss: 3.1267 - loss: 7.4120 - prescription_output_accuracy: 0.1238 - prescription_output_loss: 4.2861\n",
            "Epoch 27/100\n",
            "\u001b[1m13/13\u001b[0m \u001b[32m━━━━━━━━━━━━━━━━━━━━\u001b[0m\u001b[37m\u001b[0m \u001b[1m0s\u001b[0m 17ms/step - disease_output_accuracy: 0.2578 - disease_output_loss: 2.9808 - loss: 7.2650 - prescription_output_accuracy: 0.1093 - prescription_output_loss: 4.2844\n",
            "Epoch 28/100\n",
            "\u001b[1m13/13\u001b[0m \u001b[32m━━━━━━━━━━━━━━━━━━━━\u001b[0m\u001b[37m\u001b[0m \u001b[1m0s\u001b[0m 18ms/step - disease_output_accuracy: 0.2456 - disease_output_loss: 3.0452 - loss: 7.2913 - prescription_output_accuracy: 0.0892 - prescription_output_loss: 4.2471\n",
            "Epoch 29/100\n",
            "\u001b[1m13/13\u001b[0m \u001b[32m━━━━━━━━━━━━━━━━━━━━\u001b[0m\u001b[37m\u001b[0m \u001b[1m0s\u001b[0m 18ms/step - disease_output_accuracy: 0.2376 - disease_output_loss: 2.9955 - loss: 7.1721 - prescription_output_accuracy: 0.0793 - prescription_output_loss: 4.1770\n",
            "Epoch 30/100\n",
            "\u001b[1m13/13\u001b[0m \u001b[32m━━━━━━━━━━━━━━━━━━━━\u001b[0m\u001b[37m\u001b[0m \u001b[1m0s\u001b[0m 18ms/step - disease_output_accuracy: 0.2670 - disease_output_loss: 2.9320 - loss: 7.0524 - prescription_output_accuracy: 0.1233 - prescription_output_loss: 4.1216\n",
            "Epoch 31/100\n",
            "\u001b[1m13/13\u001b[0m \u001b[32m━━━━━━━━━━━━━━━━━━━━\u001b[0m\u001b[37m\u001b[0m \u001b[1m0s\u001b[0m 21ms/step - disease_output_accuracy: 0.2623 - disease_output_loss: 2.9055 - loss: 6.9659 - prescription_output_accuracy: 0.1074 - prescription_output_loss: 4.0601\n",
            "Epoch 32/100\n",
            "\u001b[1m13/13\u001b[0m \u001b[32m━━━━━━━━━━━━━━━━━━━━\u001b[0m\u001b[37m\u001b[0m \u001b[1m0s\u001b[0m 19ms/step - disease_output_accuracy: 0.3242 - disease_output_loss: 2.8252 - loss: 6.8583 - prescription_output_accuracy: 0.1244 - prescription_output_loss: 4.0318\n",
            "Epoch 33/100\n",
            "\u001b[1m13/13\u001b[0m \u001b[32m━━━━━━━━━━━━━━━━━━━━\u001b[0m\u001b[37m\u001b[0m \u001b[1m0s\u001b[0m 18ms/step - disease_output_accuracy: 0.3040 - disease_output_loss: 2.7704 - loss: 6.6971 - prescription_output_accuracy: 0.1349 - prescription_output_loss: 3.9270\n",
            "Epoch 34/100\n",
            "\u001b[1m13/13\u001b[0m \u001b[32m━━━━━━━━━━━━━━━━━━━━\u001b[0m\u001b[37m\u001b[0m \u001b[1m0s\u001b[0m 19ms/step - disease_output_accuracy: 0.3043 - disease_output_loss: 2.7035 - loss: 6.6356 - prescription_output_accuracy: 0.1118 - prescription_output_loss: 3.9325\n",
            "Epoch 35/100\n",
            "\u001b[1m13/13\u001b[0m \u001b[32m━━━━━━━━━━━━━━━━━━━━\u001b[0m\u001b[37m\u001b[0m \u001b[1m0s\u001b[0m 19ms/step - disease_output_accuracy: 0.3181 - disease_output_loss: 2.7375 - loss: 6.6326 - prescription_output_accuracy: 0.1250 - prescription_output_loss: 3.8951\n",
            "Epoch 36/100\n",
            "\u001b[1m13/13\u001b[0m \u001b[32m━━━━━━━━━━━━━━━━━━━━\u001b[0m\u001b[37m\u001b[0m \u001b[1m0s\u001b[0m 17ms/step - disease_output_accuracy: 0.2822 - disease_output_loss: 2.7360 - loss: 6.6077 - prescription_output_accuracy: 0.1324 - prescription_output_loss: 3.8722\n",
            "Epoch 37/100\n",
            "\u001b[1m13/13\u001b[0m \u001b[32m━━━━━━━━━━━━━━━━━━━━\u001b[0m\u001b[37m\u001b[0m \u001b[1m0s\u001b[0m 19ms/step - disease_output_accuracy: 0.3492 - disease_output_loss: 2.6108 - loss: 6.4256 - prescription_output_accuracy: 0.1594 - prescription_output_loss: 3.8169\n",
            "Epoch 38/100\n",
            "\u001b[1m13/13\u001b[0m \u001b[32m━━━━━━━━━━━━━━━━━━━━\u001b[0m\u001b[37m\u001b[0m \u001b[1m0s\u001b[0m 18ms/step - disease_output_accuracy: 0.3633 - disease_output_loss: 2.6378 - loss: 6.4239 - prescription_output_accuracy: 0.1537 - prescription_output_loss: 3.7870\n",
            "Epoch 39/100\n",
            "\u001b[1m13/13\u001b[0m \u001b[32m━━━━━━━━━━━━━━━━━━━━\u001b[0m\u001b[37m\u001b[0m \u001b[1m0s\u001b[0m 19ms/step - disease_output_accuracy: 0.3576 - disease_output_loss: 2.5919 - loss: 6.3324 - prescription_output_accuracy: 0.1831 - prescription_output_loss: 3.7402\n",
            "Epoch 40/100\n",
            "\u001b[1m13/13\u001b[0m \u001b[32m━━━━━━━━━━━━━━━━━━━━\u001b[0m\u001b[37m\u001b[0m \u001b[1m0s\u001b[0m 19ms/step - disease_output_accuracy: 0.3188 - disease_output_loss: 2.5799 - loss: 6.3295 - prescription_output_accuracy: 0.1391 - prescription_output_loss: 3.7493\n",
            "Epoch 41/100\n",
            "\u001b[1m13/13\u001b[0m \u001b[32m━━━━━━━━━━━━━━━━━━━━\u001b[0m\u001b[37m\u001b[0m \u001b[1m0s\u001b[0m 19ms/step - disease_output_accuracy: 0.3352 - disease_output_loss: 2.5825 - loss: 6.2497 - prescription_output_accuracy: 0.1733 - prescription_output_loss: 3.6680\n",
            "Epoch 42/100\n",
            "\u001b[1m13/13\u001b[0m \u001b[32m━━━━━━━━━━━━━━━━━━━━\u001b[0m\u001b[37m\u001b[0m \u001b[1m0s\u001b[0m 22ms/step - disease_output_accuracy: 0.3932 - disease_output_loss: 2.4557 - loss: 6.0555 - prescription_output_accuracy: 0.1936 - prescription_output_loss: 3.5992\n",
            "Epoch 43/100\n",
            "\u001b[1m13/13\u001b[0m \u001b[32m━━━━━━━━━━━━━━━━━━━━\u001b[0m\u001b[37m\u001b[0m \u001b[1m1s\u001b[0m 18ms/step - disease_output_accuracy: 0.4099 - disease_output_loss: 2.4315 - loss: 5.9953 - prescription_output_accuracy: 0.1861 - prescription_output_loss: 3.5629\n",
            "Epoch 44/100\n",
            "\u001b[1m13/13\u001b[0m \u001b[32m━━━━━━━━━━━━━━━━━━━━\u001b[0m\u001b[37m\u001b[0m \u001b[1m0s\u001b[0m 17ms/step - disease_output_accuracy: 0.3973 - disease_output_loss: 2.4168 - loss: 5.9264 - prescription_output_accuracy: 0.2363 - prescription_output_loss: 3.5099\n",
            "Epoch 45/100\n",
            "\u001b[1m13/13\u001b[0m \u001b[32m━━━━━━━━━━━━━━━━━━━━\u001b[0m\u001b[37m\u001b[0m \u001b[1m0s\u001b[0m 18ms/step - disease_output_accuracy: 0.4084 - disease_output_loss: 2.3744 - loss: 5.8609 - prescription_output_accuracy: 0.2310 - prescription_output_loss: 3.4863\n",
            "Epoch 46/100\n",
            "\u001b[1m13/13\u001b[0m \u001b[32m━━━━━━━━━━━━━━━━━━━━\u001b[0m\u001b[37m\u001b[0m \u001b[1m0s\u001b[0m 17ms/step - disease_output_accuracy: 0.3512 - disease_output_loss: 2.4638 - loss: 5.9835 - prescription_output_accuracy: 0.2019 - prescription_output_loss: 3.5191\n",
            "Epoch 47/100\n",
            "\u001b[1m13/13\u001b[0m \u001b[32m━━━━━━━━━━━━━━━━━━━━\u001b[0m\u001b[37m\u001b[0m \u001b[1m0s\u001b[0m 18ms/step - disease_output_accuracy: 0.4181 - disease_output_loss: 2.3022 - loss: 5.7588 - prescription_output_accuracy: 0.2470 - prescription_output_loss: 3.4568\n",
            "Epoch 48/100\n",
            "\u001b[1m13/13\u001b[0m \u001b[32m━━━━━━━━━━━━━━━━━━━━\u001b[0m\u001b[37m\u001b[0m \u001b[1m0s\u001b[0m 21ms/step - disease_output_accuracy: 0.4054 - disease_output_loss: 2.3515 - loss: 5.7632 - prescription_output_accuracy: 0.2465 - prescription_output_loss: 3.4121\n",
            "Epoch 49/100\n",
            "\u001b[1m13/13\u001b[0m \u001b[32m━━━━━━━━━━━━━━━━━━━━\u001b[0m\u001b[37m\u001b[0m \u001b[1m0s\u001b[0m 18ms/step - disease_output_accuracy: 0.3807 - disease_output_loss: 2.2934 - loss: 5.6871 - prescription_output_accuracy: 0.2525 - prescription_output_loss: 3.3934\n",
            "Epoch 50/100\n",
            "\u001b[1m13/13\u001b[0m \u001b[32m━━━━━━━━━━━━━━━━━━━━\u001b[0m\u001b[37m\u001b[0m \u001b[1m0s\u001b[0m 18ms/step - disease_output_accuracy: 0.4234 - disease_output_loss: 2.2563 - loss: 5.6465 - prescription_output_accuracy: 0.2403 - prescription_output_loss: 3.3912\n",
            "Epoch 51/100\n",
            "\u001b[1m13/13\u001b[0m \u001b[32m━━━━━━━━━━━━━━━━━━━━\u001b[0m\u001b[37m\u001b[0m \u001b[1m0s\u001b[0m 19ms/step - disease_output_accuracy: 0.4294 - disease_output_loss: 2.2256 - loss: 5.5446 - prescription_output_accuracy: 0.2661 - prescription_output_loss: 3.3184\n",
            "Epoch 52/100\n",
            "\u001b[1m13/13\u001b[0m \u001b[32m━━━━━━━━━━━━━━━━━━━━\u001b[0m\u001b[37m\u001b[0m \u001b[1m0s\u001b[0m 21ms/step - disease_output_accuracy: 0.4400 - disease_output_loss: 2.1602 - loss: 5.4868 - prescription_output_accuracy: 0.2504 - prescription_output_loss: 3.3268\n",
            "Epoch 53/100\n",
            "\u001b[1m13/13\u001b[0m \u001b[32m━━━━━━━━━━━━━━━━━━━━\u001b[0m\u001b[37m\u001b[0m \u001b[1m0s\u001b[0m 18ms/step - disease_output_accuracy: 0.4468 - disease_output_loss: 2.1719 - loss: 5.3907 - prescription_output_accuracy: 0.3148 - prescription_output_loss: 3.2190\n",
            "Epoch 54/100\n",
            "\u001b[1m13/13\u001b[0m \u001b[32m━━━━━━━━━━━━━━━━━━━━\u001b[0m\u001b[37m\u001b[0m \u001b[1m0s\u001b[0m 17ms/step - disease_output_accuracy: 0.4799 - disease_output_loss: 2.1254 - loss: 5.3569 - prescription_output_accuracy: 0.2914 - prescription_output_loss: 3.2318\n",
            "Epoch 55/100\n",
            "\u001b[1m13/13\u001b[0m \u001b[32m━━━━━━━━━━━━━━━━━━━━\u001b[0m\u001b[37m\u001b[0m \u001b[1m0s\u001b[0m 21ms/step - disease_output_accuracy: 0.4713 - disease_output_loss: 2.0622 - loss: 5.2187 - prescription_output_accuracy: 0.2998 - prescription_output_loss: 3.1564\n",
            "Epoch 56/100\n",
            "\u001b[1m13/13\u001b[0m \u001b[32m━━━━━━━━━━━━━━━━━━━━\u001b[0m\u001b[37m\u001b[0m \u001b[1m0s\u001b[0m 18ms/step - disease_output_accuracy: 0.5055 - disease_output_loss: 2.0338 - loss: 5.1972 - prescription_output_accuracy: 0.3042 - prescription_output_loss: 3.1635\n",
            "Epoch 57/100\n",
            "\u001b[1m13/13\u001b[0m \u001b[32m━━━━━━━━━━━━━━━━━━━━\u001b[0m\u001b[37m\u001b[0m \u001b[1m0s\u001b[0m 18ms/step - disease_output_accuracy: 0.4811 - disease_output_loss: 2.0577 - loss: 5.2632 - prescription_output_accuracy: 0.2959 - prescription_output_loss: 3.2048\n",
            "Epoch 58/100\n",
            "\u001b[1m13/13\u001b[0m \u001b[32m━━━━━━━━━━━━━━━━━━━━\u001b[0m\u001b[37m\u001b[0m \u001b[1m0s\u001b[0m 33ms/step - disease_output_accuracy: 0.4875 - disease_output_loss: 2.0295 - loss: 5.1371 - prescription_output_accuracy: 0.3432 - prescription_output_loss: 3.1069\n",
            "Epoch 59/100\n",
            "\u001b[1m13/13\u001b[0m \u001b[32m━━━━━━━━━━━━━━━━━━━━\u001b[0m\u001b[37m\u001b[0m \u001b[1m0s\u001b[0m 33ms/step - disease_output_accuracy: 0.4593 - disease_output_loss: 2.0259 - loss: 5.0984 - prescription_output_accuracy: 0.3365 - prescription_output_loss: 3.0740\n",
            "Epoch 60/100\n",
            "\u001b[1m13/13\u001b[0m \u001b[32m━━━━━━━━━━━━━━━━━━━━\u001b[0m\u001b[37m\u001b[0m \u001b[1m1s\u001b[0m 32ms/step - disease_output_accuracy: 0.4950 - disease_output_loss: 1.9990 - loss: 5.0770 - prescription_output_accuracy: 0.2814 - prescription_output_loss: 3.0776\n",
            "Epoch 61/100\n",
            "\u001b[1m13/13\u001b[0m \u001b[32m━━━━━━━━━━━━━━━━━━━━\u001b[0m\u001b[37m\u001b[0m \u001b[1m0s\u001b[0m 30ms/step - disease_output_accuracy: 0.5614 - disease_output_loss: 1.8440 - loss: 4.8681 - prescription_output_accuracy: 0.3083 - prescription_output_loss: 3.0245\n",
            "Epoch 62/100\n",
            "\u001b[1m13/13\u001b[0m \u001b[32m━━━━━━━━━━━━━━━━━━━━\u001b[0m\u001b[37m\u001b[0m \u001b[1m1s\u001b[0m 34ms/step - disease_output_accuracy: 0.5139 - disease_output_loss: 1.8839 - loss: 4.8519 - prescription_output_accuracy: 0.3696 - prescription_output_loss: 2.9694\n",
            "Epoch 63/100\n",
            "\u001b[1m13/13\u001b[0m \u001b[32m━━━━━━━━━━━━━━━━━━━━\u001b[0m\u001b[37m\u001b[0m \u001b[1m0s\u001b[0m 18ms/step - disease_output_accuracy: 0.5558 - disease_output_loss: 1.8225 - loss: 4.8187 - prescription_output_accuracy: 0.3488 - prescription_output_loss: 2.9966\n",
            "Epoch 64/100\n",
            "\u001b[1m13/13\u001b[0m \u001b[32m━━━━━━━━━━━━━━━━━━━━\u001b[0m\u001b[37m\u001b[0m \u001b[1m0s\u001b[0m 19ms/step - disease_output_accuracy: 0.5599 - disease_output_loss: 1.8333 - loss: 4.7543 - prescription_output_accuracy: 0.3607 - prescription_output_loss: 2.9205\n",
            "Epoch 65/100\n",
            "\u001b[1m13/13\u001b[0m \u001b[32m━━━━━━━━━━━━━━━━━━━━\u001b[0m\u001b[37m\u001b[0m \u001b[1m0s\u001b[0m 19ms/step - disease_output_accuracy: 0.5598 - disease_output_loss: 1.8117 - loss: 4.7452 - prescription_output_accuracy: 0.3300 - prescription_output_loss: 2.9317\n",
            "Epoch 66/100\n",
            "\u001b[1m13/13\u001b[0m \u001b[32m━━━━━━━━━━━━━━━━━━━━\u001b[0m\u001b[37m\u001b[0m \u001b[1m0s\u001b[0m 18ms/step - disease_output_accuracy: 0.6031 - disease_output_loss: 1.7114 - loss: 4.5628 - prescription_output_accuracy: 0.3966 - prescription_output_loss: 2.8499\n",
            "Epoch 67/100\n",
            "\u001b[1m13/13\u001b[0m \u001b[32m━━━━━━━━━━━━━━━━━━━━\u001b[0m\u001b[37m\u001b[0m \u001b[1m0s\u001b[0m 17ms/step - disease_output_accuracy: 0.5908 - disease_output_loss: 1.7615 - loss: 4.6168 - prescription_output_accuracy: 0.3623 - prescription_output_loss: 2.8552\n",
            "Epoch 68/100\n",
            "\u001b[1m13/13\u001b[0m \u001b[32m━━━━━━━━━━━━━━━━━━━━\u001b[0m\u001b[37m\u001b[0m \u001b[1m0s\u001b[0m 20ms/step - disease_output_accuracy: 0.5749 - disease_output_loss: 1.7721 - loss: 4.5569 - prescription_output_accuracy: 0.3876 - prescription_output_loss: 2.7849\n",
            "Epoch 69/100\n",
            "\u001b[1m13/13\u001b[0m \u001b[32m━━━━━━━━━━━━━━━━━━━━\u001b[0m\u001b[37m\u001b[0m \u001b[1m0s\u001b[0m 19ms/step - disease_output_accuracy: 0.5731 - disease_output_loss: 1.7044 - loss: 4.4770 - prescription_output_accuracy: 0.4175 - prescription_output_loss: 2.7723\n",
            "Epoch 70/100\n",
            "\u001b[1m13/13\u001b[0m \u001b[32m━━━━━━━━━━━━━━━━━━━━\u001b[0m\u001b[37m\u001b[0m \u001b[1m0s\u001b[0m 19ms/step - disease_output_accuracy: 0.6273 - disease_output_loss: 1.6479 - loss: 4.3858 - prescription_output_accuracy: 0.3804 - prescription_output_loss: 2.7388\n",
            "Epoch 71/100\n",
            "\u001b[1m13/13\u001b[0m \u001b[32m━━━━━━━━━━━━━━━━━━━━\u001b[0m\u001b[37m\u001b[0m \u001b[1m0s\u001b[0m 19ms/step - disease_output_accuracy: 0.6434 - disease_output_loss: 1.6309 - loss: 4.3882 - prescription_output_accuracy: 0.3998 - prescription_output_loss: 2.7589\n",
            "Epoch 72/100\n",
            "\u001b[1m13/13\u001b[0m \u001b[32m━━━━━━━━━━━━━━━━━━━━\u001b[0m\u001b[37m\u001b[0m \u001b[1m0s\u001b[0m 18ms/step - disease_output_accuracy: 0.5688 - disease_output_loss: 1.7814 - loss: 4.5005 - prescription_output_accuracy: 0.4257 - prescription_output_loss: 2.7189\n",
            "Epoch 73/100\n",
            "\u001b[1m13/13\u001b[0m \u001b[32m━━━━━━━━━━━━━━━━━━━━\u001b[0m\u001b[37m\u001b[0m \u001b[1m0s\u001b[0m 18ms/step - disease_output_accuracy: 0.5820 - disease_output_loss: 1.6379 - loss: 4.3438 - prescription_output_accuracy: 0.3940 - prescription_output_loss: 2.7067\n",
            "Epoch 74/100\n",
            "\u001b[1m13/13\u001b[0m \u001b[32m━━━━━━━━━━━━━━━━━━━━\u001b[0m\u001b[37m\u001b[0m \u001b[1m0s\u001b[0m 19ms/step - disease_output_accuracy: 0.6005 - disease_output_loss: 1.6449 - loss: 4.3119 - prescription_output_accuracy: 0.4151 - prescription_output_loss: 2.6675\n",
            "Epoch 75/100\n",
            "\u001b[1m13/13\u001b[0m \u001b[32m━━━━━━━━━━━━━━━━━━━━\u001b[0m\u001b[37m\u001b[0m \u001b[1m0s\u001b[0m 19ms/step - disease_output_accuracy: 0.6322 - disease_output_loss: 1.6058 - loss: 4.2377 - prescription_output_accuracy: 0.3788 - prescription_output_loss: 2.6317\n",
            "Epoch 76/100\n",
            "\u001b[1m13/13\u001b[0m \u001b[32m━━━━━━━━━━━━━━━━━━━━\u001b[0m\u001b[37m\u001b[0m \u001b[1m0s\u001b[0m 20ms/step - disease_output_accuracy: 0.6321 - disease_output_loss: 1.5790 - loss: 4.1958 - prescription_output_accuracy: 0.4301 - prescription_output_loss: 2.6165\n",
            "Epoch 77/100\n",
            "\u001b[1m13/13\u001b[0m \u001b[32m━━━━━━━━━━━━━━━━━━━━\u001b[0m\u001b[37m\u001b[0m \u001b[1m0s\u001b[0m 18ms/step - disease_output_accuracy: 0.6093 - disease_output_loss: 1.6612 - loss: 4.2795 - prescription_output_accuracy: 0.4616 - prescription_output_loss: 2.6185\n",
            "Epoch 78/100\n",
            "\u001b[1m13/13\u001b[0m \u001b[32m━━━━━━━━━━━━━━━━━━━━\u001b[0m\u001b[37m\u001b[0m \u001b[1m0s\u001b[0m 20ms/step - disease_output_accuracy: 0.6270 - disease_output_loss: 1.5644 - loss: 4.1447 - prescription_output_accuracy: 0.4492 - prescription_output_loss: 2.5819\n",
            "Epoch 79/100\n",
            "\u001b[1m13/13\u001b[0m \u001b[32m━━━━━━━━━━━━━━━━━━━━\u001b[0m\u001b[37m\u001b[0m \u001b[1m0s\u001b[0m 18ms/step - disease_output_accuracy: 0.6450 - disease_output_loss: 1.5325 - loss: 4.1248 - prescription_output_accuracy: 0.4257 - prescription_output_loss: 2.5930\n",
            "Epoch 80/100\n",
            "\u001b[1m13/13\u001b[0m \u001b[32m━━━━━━━━━━━━━━━━━━━━\u001b[0m\u001b[37m\u001b[0m \u001b[1m0s\u001b[0m 18ms/step - disease_output_accuracy: 0.6431 - disease_output_loss: 1.5744 - loss: 4.1205 - prescription_output_accuracy: 0.4361 - prescription_output_loss: 2.5456\n",
            "Epoch 81/100\n",
            "\u001b[1m13/13\u001b[0m \u001b[32m━━━━━━━━━━━━━━━━━━━━\u001b[0m\u001b[37m\u001b[0m \u001b[1m0s\u001b[0m 20ms/step - disease_output_accuracy: 0.6286 - disease_output_loss: 1.5350 - loss: 4.0497 - prescription_output_accuracy: 0.4538 - prescription_output_loss: 2.5151\n",
            "Epoch 82/100\n",
            "\u001b[1m13/13\u001b[0m \u001b[32m━━━━━━━━━━━━━━━━━━━━\u001b[0m\u001b[37m\u001b[0m \u001b[1m0s\u001b[0m 24ms/step - disease_output_accuracy: 0.6237 - disease_output_loss: 1.5385 - loss: 4.0546 - prescription_output_accuracy: 0.4473 - prescription_output_loss: 2.5165\n",
            "Epoch 83/100\n",
            "\u001b[1m13/13\u001b[0m \u001b[32m━━━━━━━━━━━━━━━━━━━━\u001b[0m\u001b[37m\u001b[0m \u001b[1m0s\u001b[0m 28ms/step - disease_output_accuracy: 0.6658 - disease_output_loss: 1.4669 - loss: 3.9116 - prescription_output_accuracy: 0.4827 - prescription_output_loss: 2.4455\n",
            "Epoch 84/100\n",
            "\u001b[1m13/13\u001b[0m \u001b[32m━━━━━━━━━━━━━━━━━━━━\u001b[0m\u001b[37m\u001b[0m \u001b[1m1s\u001b[0m 21ms/step - disease_output_accuracy: 0.6435 - disease_output_loss: 1.5307 - loss: 4.0216 - prescription_output_accuracy: 0.4426 - prescription_output_loss: 2.4906\n",
            "Epoch 85/100\n",
            "\u001b[1m13/13\u001b[0m \u001b[32m━━━━━━━━━━━━━━━━━━━━\u001b[0m\u001b[37m\u001b[0m \u001b[1m0s\u001b[0m 20ms/step - disease_output_accuracy: 0.6079 - disease_output_loss: 1.5429 - loss: 4.0150 - prescription_output_accuracy: 0.4600 - prescription_output_loss: 2.4731\n",
            "Epoch 86/100\n",
            "\u001b[1m13/13\u001b[0m \u001b[32m━━━━━━━━━━━━━━━━━━━━\u001b[0m\u001b[37m\u001b[0m \u001b[1m0s\u001b[0m 22ms/step - disease_output_accuracy: 0.6271 - disease_output_loss: 1.5873 - loss: 4.0692 - prescription_output_accuracy: 0.3971 - prescription_output_loss: 2.4803\n",
            "Epoch 87/100\n",
            "\u001b[1m13/13\u001b[0m \u001b[32m━━━━━━━━━━━━━━━━━━━━\u001b[0m\u001b[37m\u001b[0m \u001b[1m0s\u001b[0m 26ms/step - disease_output_accuracy: 0.6320 - disease_output_loss: 1.5296 - loss: 4.0158 - prescription_output_accuracy: 0.4285 - prescription_output_loss: 2.4853\n",
            "Epoch 88/100\n",
            "\u001b[1m13/13\u001b[0m \u001b[32m━━━━━━━━━━━━━━━━━━━━\u001b[0m\u001b[37m\u001b[0m \u001b[1m0s\u001b[0m 24ms/step - disease_output_accuracy: 0.6212 - disease_output_loss: 1.4875 - loss: 3.9198 - prescription_output_accuracy: 0.4621 - prescription_output_loss: 2.4328\n",
            "Epoch 89/100\n",
            "\u001b[1m13/13\u001b[0m \u001b[32m━━━━━━━━━━━━━━━━━━━━\u001b[0m\u001b[37m\u001b[0m \u001b[1m0s\u001b[0m 21ms/step - disease_output_accuracy: 0.6547 - disease_output_loss: 1.4111 - loss: 3.7893 - prescription_output_accuracy: 0.4692 - prescription_output_loss: 2.3786\n",
            "Epoch 90/100\n",
            "\u001b[1m13/13\u001b[0m \u001b[32m━━━━━━━━━━━━━━━━━━━━\u001b[0m\u001b[37m\u001b[0m \u001b[1m0s\u001b[0m 21ms/step - disease_output_accuracy: 0.6589 - disease_output_loss: 1.4273 - loss: 3.7808 - prescription_output_accuracy: 0.4377 - prescription_output_loss: 2.3537\n",
            "Epoch 91/100\n",
            "\u001b[1m13/13\u001b[0m \u001b[32m━━━━━━━━━━━━━━━━━━━━\u001b[0m\u001b[37m\u001b[0m \u001b[1m0s\u001b[0m 18ms/step - disease_output_accuracy: 0.6470 - disease_output_loss: 1.3799 - loss: 3.7455 - prescription_output_accuracy: 0.4607 - prescription_output_loss: 2.3660\n",
            "Epoch 92/100\n",
            "\u001b[1m13/13\u001b[0m \u001b[32m━━━━━━━━━━━━━━━━━━━━\u001b[0m\u001b[37m\u001b[0m \u001b[1m0s\u001b[0m 27ms/step - disease_output_accuracy: 0.6672 - disease_output_loss: 1.3634 - loss: 3.7027 - prescription_output_accuracy: 0.4391 - prescription_output_loss: 2.3421\n",
            "Epoch 93/100\n",
            "\u001b[1m13/13\u001b[0m \u001b[32m━━━━━━━━━━━━━━━━━━━━\u001b[0m\u001b[37m\u001b[0m \u001b[1m0s\u001b[0m 20ms/step - disease_output_accuracy: 0.6858 - disease_output_loss: 1.3271 - loss: 3.5669 - prescription_output_accuracy: 0.5345 - prescription_output_loss: 2.2397\n",
            "Epoch 94/100\n",
            "\u001b[1m13/13\u001b[0m \u001b[32m━━━━━━━━━━━━━━━━━━━━\u001b[0m\u001b[37m\u001b[0m \u001b[1m0s\u001b[0m 18ms/step - disease_output_accuracy: 0.7044 - disease_output_loss: 1.3283 - loss: 3.5732 - prescription_output_accuracy: 0.5000 - prescription_output_loss: 2.2458\n",
            "Epoch 95/100\n",
            "\u001b[1m13/13\u001b[0m \u001b[32m━━━━━━━━━━━━━━━━━━━━\u001b[0m\u001b[37m\u001b[0m \u001b[1m1s\u001b[0m 39ms/step - disease_output_accuracy: 0.7068 - disease_output_loss: 1.3304 - loss: 3.5647 - prescription_output_accuracy: 0.5214 - prescription_output_loss: 2.2335\n",
            "Epoch 96/100\n",
            "\u001b[1m13/13\u001b[0m \u001b[32m━━━━━━━━━━━━━━━━━━━━\u001b[0m\u001b[37m\u001b[0m \u001b[1m1s\u001b[0m 61ms/step - disease_output_accuracy: 0.6671 - disease_output_loss: 1.3439 - loss: 3.6221 - prescription_output_accuracy: 0.4826 - prescription_output_loss: 2.2775\n",
            "Epoch 97/100\n",
            "\u001b[1m13/13\u001b[0m \u001b[32m━━━━━━━━━━━━━━━━━━━━\u001b[0m\u001b[37m\u001b[0m \u001b[1m1s\u001b[0m 32ms/step - disease_output_accuracy: 0.7268 - disease_output_loss: 1.2765 - loss: 3.4770 - prescription_output_accuracy: 0.5065 - prescription_output_loss: 2.1988\n",
            "Epoch 98/100\n",
            "\u001b[1m13/13\u001b[0m \u001b[32m━━━━━━━━━━━━━━━━━━━━\u001b[0m\u001b[37m\u001b[0m \u001b[1m1s\u001b[0m 29ms/step - disease_output_accuracy: 0.7343 - disease_output_loss: 1.2722 - loss: 3.4004 - prescription_output_accuracy: 0.5210 - prescription_output_loss: 2.1290\n",
            "Epoch 99/100\n",
            "\u001b[1m13/13\u001b[0m \u001b[32m━━━━━━━━━━━━━━━━━━━━\u001b[0m\u001b[37m\u001b[0m \u001b[1m0s\u001b[0m 19ms/step - disease_output_accuracy: 0.7296 - disease_output_loss: 1.2165 - loss: 3.3106 - prescription_output_accuracy: 0.5531 - prescription_output_loss: 2.0953\n",
            "Epoch 100/100\n",
            "\u001b[1m13/13\u001b[0m \u001b[32m━━━━━━━━━━━━━━━━━━━━\u001b[0m\u001b[37m\u001b[0m \u001b[1m0s\u001b[0m 19ms/step - disease_output_accuracy: 0.7052 - disease_output_loss: 1.2510 - loss: 3.3654 - prescription_output_accuracy: 0.5348 - prescription_output_loss: 2.1154\n"
          ]
        },
        {
          "output_type": "execute_result",
          "data": {
            "text/plain": [
              "<keras.src.callbacks.history.History at 0x7e5a6448e310>"
            ]
          },
          "metadata": {},
          "execution_count": 13
        }
      ]
    },
    {
      "cell_type": "code",
      "source": [
        "#making predictions\n",
        "def make_prediction(patient_problem):\n",
        "    # Preprocessing the input\n",
        "    sequence = tokenizer.texts_to_sequences([patient_problem])\n",
        "    padded_sequence = pad_sequences(sequence, maxlen=max_length, padding='post')\n",
        "\n",
        "    # Making prediction\n",
        "    prediction = model.predict(padded_sequence)\n",
        "\n",
        "    # Decoding the prediction\n",
        "    disease_index = np.argmax(prediction[0], axis=1)[0]\n",
        "    prescription_index = np.argmax(prediction[1], axis=1)[0]\n",
        "\n",
        "    disease_predicted = label_encoder_disease.inverse_transform([disease_index])[0]\n",
        "    prescription_predicted = label_encoder_prescription.inverse_transform([prescription_index])[0]\n",
        "\n",
        "    print(f\"Predicted Disease: {disease_predicted}\")\n",
        "    print(f\"Suggested Prescription: {prescription_predicted}\")\n",
        "\n",
        "\n",
        "patient_input = \"I've experienced a loss of appetite and don't enjoy food anymore.\"\n",
        "make_prediction(patient_input)"
      ],
      "metadata": {
        "colab": {
          "base_uri": "https://localhost:8080/"
        },
        "id": "56PcA-cFk-C8",
        "outputId": "7307689b-1030-47b7-cb85-454836862895"
      },
      "execution_count": 15,
      "outputs": [
        {
          "output_type": "stream",
          "name": "stdout",
          "text": [
            "\u001b[1m1/1\u001b[0m \u001b[32m━━━━━━━━━━━━━━━━━━━━\u001b[0m\u001b[37m\u001b[0m \u001b[1m0s\u001b[0m 226ms/step\n",
            "Predicted Disease: Depression\n",
            "Suggested Prescription: Antidepressants; eating nutrient-rich foods.\n"
          ]
        }
      ]
    },
    {
      "cell_type": "code",
      "source": [],
      "metadata": {
        "id": "DJr0Il0mnXkd"
      },
      "execution_count": null,
      "outputs": []
    }
  ]
}