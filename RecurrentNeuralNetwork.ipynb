{
 "cells": [
  {
   "cell_type": "code",
   "id": "initial_id",
   "metadata": {
    "collapsed": true,
    "ExecuteTime": {
     "end_time": "2024-09-20T03:18:09.685008Z",
     "start_time": "2024-09-20T03:18:03.821561Z"
    }
   },
   "source": [
    "#importing libraries\n",
    "from tensorflow.keras.layers import SimpleRNN, LSTM, GRU, Bidirectional, Dense, Embedding\n",
    "from tensorflow.keras.datasets import imdb\n",
    "from tensorflow.keras.models import Sequential\n",
    "import numpy as np"
   ],
   "outputs": [
    {
     "name": "stderr",
     "output_type": "stream",
     "text": [
      "/Users/vaishnavidubey/Pycharm/DeepLearning/.venv/lib/python3.9/site-packages/urllib3/__init__.py:35: NotOpenSSLWarning: urllib3 v2 only supports OpenSSL 1.1.1+, currently the 'ssl' module is compiled with 'LibreSSL 2.8.3'. See: https://github.com/urllib3/urllib3/issues/3020\n",
      "  warnings.warn(\n"
     ]
    }
   ],
   "execution_count": 2
  },
  {
   "metadata": {
    "ExecuteTime": {
     "end_time": "2024-09-20T03:22:05.788241Z",
     "start_time": "2024-09-20T03:18:30.928615Z"
    }
   },
   "cell_type": "code",
   "source": [
    "#loading and preparing data\n",
    "vocab_size = 5000\n",
    "(x_train, y_train), (x_test, y_test) = imdb.load_data(num_words=vocab_size)"
   ],
   "id": "7232d5e288708b1a",
   "outputs": [
    {
     "name": "stdout",
     "output_type": "stream",
     "text": [
      "Downloading data from https://storage.googleapis.com/tensorflow/tf-keras-datasets/imdb.npz\n",
      "\u001B[1m17464789/17464789\u001B[0m \u001B[32m━━━━━━━━━━━━━━━━━━━━\u001B[0m\u001B[37m\u001B[0m \u001B[1m212s\u001B[0m 12us/step\n"
     ]
    }
   ],
   "execution_count": 3
  },
  {
   "metadata": {
    "ExecuteTime": {
     "end_time": "2024-09-20T03:24:10.823946Z",
     "start_time": "2024-09-20T03:23:44.877113Z"
    }
   },
   "cell_type": "code",
   "source": [
    "#getting the word index\n",
    "word_idx = imdb.get_word_index()\n",
    "word_idx = {i: word for word, i in\n",
    "word_idx.items()}"
   ],
   "id": "6ae107e5ba955eb6",
   "outputs": [
    {
     "name": "stdout",
     "output_type": "stream",
     "text": [
      "Downloading data from https://storage.googleapis.com/tensorflow/tf-keras-datasets/imdb_word_index.json\n",
      "\u001B[1m1641221/1641221\u001B[0m \u001B[32m━━━━━━━━━━━━━━━━━━━━\u001B[0m\u001B[37m\u001B[0m \u001B[1m24s\u001B[0m 15us/step\n"
     ]
    }
   ],
   "execution_count": 4
  },
  {
   "metadata": {
    "ExecuteTime": {
     "end_time": "2024-09-20T03:24:19.386740Z",
     "start_time": "2024-09-20T03:24:19.090994Z"
    }
   },
   "cell_type": "code",
   "source": [
    "#Finding the Max and Min Review Lengths\n",
    "# Get the minimum and the maximum length of reviews\n",
    "print(\"Max length of a review::\", len(max((x_train+x_test), key=len)))\n",
    "print(\"Min length of a review::\", len(min((x_train+x_test), key=len)))"
   ],
   "id": "6538e59014e58006",
   "outputs": [
    {
     "name": "stdout",
     "output_type": "stream",
     "text": [
      "Max length of a review:: 2697\n",
      "Min length of a review:: 70\n"
     ]
    }
   ],
   "execution_count": 5
  },
  {
   "metadata": {
    "ExecuteTime": {
     "end_time": "2024-09-20T03:24:22.156971Z",
     "start_time": "2024-09-20T03:24:21.784715Z"
    }
   },
   "cell_type": "code",
   "source": [
    "#Padding Sequences\n",
    "from tensorflow.keras.preprocessing import sequence\n",
    "max_words = 400\n",
    "x_train = sequence.pad_sequences(x_train, maxlen=max_words)\n",
    "x_test = sequence.pad_sequences(x_test, maxlen=max_words)"
   ],
   "id": "236b28b4b78de4d9",
   "outputs": [],
   "execution_count": 6
  },
  {
   "metadata": {
    "ExecuteTime": {
     "end_time": "2024-09-20T03:24:23.142663Z",
     "start_time": "2024-09-20T03:24:23.138451Z"
    }
   },
   "cell_type": "code",
   "source": [
    "#Splitting Validation Data\n",
    "x_valid, y_valid = x_train[:64], y_train[:64]\n",
    "x_train_, y_train_ = x_train[64:], y_train[64:]"
   ],
   "id": "730ed378364c71df",
   "outputs": [],
   "execution_count": 7
  },
  {
   "metadata": {
    "ExecuteTime": {
     "end_time": "2024-09-20T03:25:22.110892Z",
     "start_time": "2024-09-20T03:25:22.069745Z"
    }
   },
   "cell_type": "code",
   "source": [
    "#Building the Model\n",
    "embd_len = 32\n",
    "RNN_model =Sequential(name=\"Simple_RNN\")\n",
    "RNN_model.add(Embedding(vocab_size, embd_len, input_length=max_words))"
   ],
   "id": "4215c791a8762eac",
   "outputs": [
    {
     "name": "stderr",
     "output_type": "stream",
     "text": [
      "/Users/vaishnavidubey/Pycharm/DeepLearning/.venv/lib/python3.9/site-packages/keras/src/layers/core/embedding.py:90: UserWarning: Argument `input_length` is deprecated. Just remove it.\n",
      "  warnings.warn(\n"
     ]
    }
   ],
   "execution_count": 9
  },
  {
   "metadata": {
    "ExecuteTime": {
     "end_time": "2024-09-20T03:25:34.431028Z",
     "start_time": "2024-09-20T03:25:34.399814Z"
    }
   },
   "cell_type": "code",
   "source": [
    "#Adding the Simple RNN Layer and adding Output layer\n",
    "RNN_model.add(SimpleRNN(128, activation='tanh', return_sequences=False))\n",
    "RNN_model.add(Dense(1, activation='sigmoid'))"
   ],
   "id": "3192116ac4e7b1b3",
   "outputs": [],
   "execution_count": 10
  },
  {
   "metadata": {
    "ExecuteTime": {
     "end_time": "2024-09-20T03:25:35.300774Z",
     "start_time": "2024-09-20T03:25:35.293963Z"
    }
   },
   "cell_type": "code",
   "source": [
    "#compiling the model\n",
    "RNN_model.compile(loss=\"binary_crossentropy\",optimizer='adam’,metrics=['accuracy'])"
   ],
   "id": "64fcdf76fe94a91d",
   "outputs": [
    {
     "ename": "SyntaxError",
     "evalue": "EOL while scanning string literal (3217365521.py, line 4)",
     "output_type": "error",
     "traceback": [
      "\u001B[0;36m  Cell \u001B[0;32mIn[11], line 4\u001B[0;36m\u001B[0m\n\u001B[0;31m    optimizer='adam’,\u001B[0m\n\u001B[0m                     ^\u001B[0m\n\u001B[0;31mSyntaxError\u001B[0m\u001B[0;31m:\u001B[0m EOL while scanning string literal\n"
     ]
    }
   ],
   "execution_count": 11
  },
  {
   "metadata": {},
   "cell_type": "code",
   "outputs": [],
   "execution_count": null,
   "source": [
    "#trainig the model\n",
    "history = RNN_model.fit( x_train_, y_train, batch_size=64,epochs=5,verbose=1,validation_data=(x_valid, y_valid))"
   ],
   "id": "e87b7f7dbd35e972"
  },
  {
   "metadata": {},
   "cell_type": "code",
   "outputs": [],
   "execution_count": null,
   "source": [
    "#Evaluating the Model\n",
    "print(\"Simple_RNN Score---> \", RNN_model.evaluate(x_test, y_test, verbose=0))"
   ],
   "id": "4332b430a703e1f7"
  }
 ],
 "metadata": {
  "kernelspec": {
   "display_name": "Python 3",
   "language": "python",
   "name": "python3"
  },
  "language_info": {
   "codemirror_mode": {
    "name": "ipython",
    "version": 2
   },
   "file_extension": ".py",
   "mimetype": "text/x-python",
   "name": "python",
   "nbconvert_exporter": "python",
   "pygments_lexer": "ipython2",
   "version": "2.7.6"
  }
 },
 "nbformat": 4,
 "nbformat_minor": 5
}
