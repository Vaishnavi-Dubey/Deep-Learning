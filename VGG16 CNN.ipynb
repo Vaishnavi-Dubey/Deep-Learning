{
 "cells": [
  {
   "cell_type": "code",
   "execution_count": null,
   "id": "initial_id",
   "metadata": {
    "collapsed": true
   },
   "outputs": [],
   "source": [
    "import tensorflow as tf\n",
    "from tensorflow.keras import layers, models\n",
    "from tensorflow.keras.applications import VGG16  # VGG16 pre-trained model\n",
    "from tensorflow.keras.datasets import mnist  # MNIST dataset\n",
    "from tensorflow.keras.utils import to_categorical  # For one-hot encoding\n"
   ]
  },
  {
   "metadata": {},
   "cell_type": "code",
   "outputs": [],
   "execution_count": null,
   "source": "(train_images, train_labels), (test_images, test_labels) = mnist.load_data()",
   "id": "70fd8a790dc51848"
  },
  {
   "metadata": {},
   "cell_type": "code",
   "outputs": [],
   "execution_count": null,
   "source": [
    "train_images = train_images.reshape((60000, 28, 28, 1)).astype('float32') / 255\n",
    "test_images = test_images.reshape((10000, 28, 28, 1)).astype('float32') / 255"
   ],
   "id": "8fa8d24613fa731"
  },
  {
   "metadata": {},
   "cell_type": "code",
   "outputs": [],
   "execution_count": null,
   "source": [
    "train_images_resized = tf.image.resize(train_images, (32, 32))\n",
    "test_images_resized = tf.image.resize(test_images, (32, 32))"
   ],
   "id": "6f36966da5b0593"
  },
  {
   "metadata": {},
   "cell_type": "code",
   "outputs": [],
   "execution_count": null,
   "source": [
    "train_images_rgb = tf.image.grayscale_to_rgb(train_images_resized)\n",
    "test_images_rgb = tf.image.grayscale_to_rgb(test_images_resized)"
   ],
   "id": "92cfedee35600d4a"
  },
  {
   "metadata": {},
   "cell_type": "code",
   "outputs": [],
   "execution_count": null,
   "source": [
    "train_labels = to_categorical(train_labels, 10)\n",
    "test_labels = to_categorical(test_labels, 10)"
   ],
   "id": "5177f399a6c8103e"
  },
  {
   "metadata": {},
   "cell_type": "code",
   "outputs": [],
   "execution_count": null,
   "source": "base_model = VGG16(weights='imagenet', include_top=False, input_shape=(32, 32, 3))",
   "id": "fc219ca73027a34d"
  },
  {
   "metadata": {},
   "cell_type": "code",
   "outputs": [],
   "execution_count": null,
   "source": "base_model.trainable = False",
   "id": "7840fc03e992f167"
  },
  {
   "metadata": {},
   "cell_type": "code",
   "outputs": [],
   "execution_count": null,
   "source": [
    "model = models.Sequential([\n",
    "    base_model,  # Use VGG16 as the feature extractor\n",
    "    layers.Flatten(),  # Flatten the output of VGG16 to feed it to the Dense layer\n",
    "    layers.Dense(64, activation='relu'),  # Add a Dense layer with 64 units and ReLU activation\n",
    "    layers.Dense(10, activation='softmax')  # Output layer for classification into 10 classes(digits)\n",
    "])"
   ],
   "id": "d5af86f295fa64ad"
  },
  {
   "metadata": {},
   "cell_type": "code",
   "outputs": [],
   "execution_count": null,
   "source": [
    "model.compile(optimizer='adam',\n",
    "              loss='categorical_crossentropy', metrics=['accuracy'])"
   ],
   "id": "4c198c5e0d49580b"
  },
  {
   "metadata": {},
   "cell_type": "code",
   "outputs": [],
   "execution_count": null,
   "source": [
    "# Train the model\n",
    "history = model.fit(train_images_rgb, train_labels,epochs=5, batch_size=64, validation_split=0.2)\n",
    "# Evaluate the model\n",
    "test_loss, test_acc = model.evaluate(test_images_rgb,test_labels)\n",
    "print(f'Test Accuracy: {test_acc}')"
   ],
   "id": "bb71df563c4c780d"
  }
 ],
 "metadata": {
  "kernelspec": {
   "display_name": "Python 3",
   "language": "python",
   "name": "python3"
  },
  "language_info": {
   "codemirror_mode": {
    "name": "ipython",
    "version": 2
   },
   "file_extension": ".py",
   "mimetype": "text/x-python",
   "name": "python",
   "nbconvert_exporter": "python",
   "pygments_lexer": "ipython2",
   "version": "2.7.6"
  }
 },
 "nbformat": 4,
 "nbformat_minor": 5
}
