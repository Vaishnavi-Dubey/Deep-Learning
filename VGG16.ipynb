{
  "nbformat": 4,
  "nbformat_minor": 0,
  "metadata": {
    "colab": {
      "provenance": [],
      "gpuType": "T4",
      "authorship_tag": "ABX9TyOvdh/I8HGcVj6wOraPVRTC",
      "include_colab_link": true
    },
    "kernelspec": {
      "name": "python3",
      "display_name": "Python 3"
    },
    "language_info": {
      "name": "python"
    },
    "accelerator": "GPU"
  },
  "cells": [
    {
      "cell_type": "markdown",
      "metadata": {
        "id": "view-in-github",
        "colab_type": "text"
      },
      "source": [
        "<a href=\"https://colab.research.google.com/github/Vaishnavi-Dubey/Deep-Learning/blob/main/VGG16.ipynb\" target=\"_parent\"><img src=\"https://colab.research.google.com/assets/colab-badge.svg\" alt=\"Open In Colab\"/></a>"
      ]
    },
    {
      "cell_type": "code",
      "execution_count": null,
      "metadata": {
        "id": "ilet84WEY2Mb"
      },
      "outputs": [],
      "source": [
        "#importing required libraries\n",
        "import tensorflow as tf\n",
        "from tensorflow.keras import layers, models\n",
        "from tensorflow.keras applications import VGG16\n",
        "from tensorflow.keras.datasets import mnist\n",
        "from tensorflow.keras.utils import to_categorical"
      ]
    },
    {
      "cell_type": "code",
      "source": [
        "#load the mnist dataset\n",
        "(train_images, train_labels), (test_images, test_labels) = mnist.load_data()"
      ],
      "metadata": {
        "id": "S6MxQdS1aFSr"
      },
      "execution_count": null,
      "outputs": []
    },
    {
      "cell_type": "code",
      "source": [
        "#preprocessing the data: Reshaping and normalizing the data\n",
        "train_images = train_images.reshape((60000,28,28, 1)).astype('float32')/255\n",
        "test_images = test_images.reshape((10000,28,28, 1)).astype('float32')/255"
      ],
      "metadata": {
        "id": "Ct6e-67EaYAW"
      },
      "execution_count": null,
      "outputs": []
    },
    {
      "cell_type": "code",
      "source": [
        "#resize images to 32x32 (as VGG16 requires atleast 32x32) and keep the last dimension as 1\n",
        "train_images_resized= tf.image.resize(train_images, (32,32))\n",
        "test_images_resized= tf.image.resize(test_images, (32,32))"
      ],
      "metadata": {
        "id": "l15t7pLubB4U"
      },
      "execution_count": null,
      "outputs": []
    },
    {
      "cell_type": "code",
      "source": [
        "train_images_rgb=tf.image.grayscale_to_rgb (train_images_resized)\n",
        "test_images_rgb=tf.image.grayscale_to_rgb (test_images_resized)"
      ],
      "metadata": {
        "id": "lMXKwv9xb2KH"
      },
      "execution_count": null,
      "outputs": []
    },
    {
      "cell_type": "code",
      "source": [
        "train_labels= to_categorical(train_labels, 10)\n",
        "test_labels= to_categorical(test_labels, 10)"
      ],
      "metadata": {
        "id": "WLW4NmqpctnK"
      },
      "execution_count": null,
      "outputs": []
    },
    {
      "cell_type": "code",
      "source": [
        "base_model = VGG16(weights = 'imagenet', include_top = False, input_shape = (32,32,3))"
      ],
      "metadata": {
        "id": "cMchPcxec8aT"
      },
      "execution_count": null,
      "outputs": []
    },
    {
      "cell_type": "code",
      "source": [
        "base_model.trainable = False"
      ],
      "metadata": {
        "id": "FAqvfehbdRYe"
      },
      "execution_count": null,
      "outputs": []
    },
    {
      "cell_type": "code",
      "source": [
        "model = models.Sequential([\n",
        "base_model,\n",
        "layers.Flatten(),\n",
        "layers.Dense(64, activation='relu'),\n",
        "layers.Dense(10, activation='softmax')\n",
        "])"
      ],
      "metadata": {
        "id": "uIZiRHDsdZip"
      },
      "execution_count": null,
      "outputs": []
    },
    {
      "cell_type": "code",
      "source": [
        "#Compile the model\n",
        "model.compile(optimizer='adam',\n",
        "loss='categorical_crossentropy',\n",
        "metrics=['accuracy'])"
      ],
      "metadata": {
        "id": "lWu0ryHgd-uD"
      },
      "execution_count": null,
      "outputs": []
    },
    {
      "cell_type": "code",
      "source": [
        "# Train the model\n",
        "history = model.fit(train_images_rgb, train_labels,\n",
        "epochs=5, batch_size=64, validation_split=0.2)\n",
        "# Evaluate the model\n",
        "test_loss, test_acc = model.evaluate(test_images_rgb, test_labels)\n",
        "print(f'Test Accuracy: {test_acc}')"
      ],
      "metadata": {
        "id": "pv6P35CgeAsp"
      },
      "execution_count": null,
      "outputs": []
    }
  ]
}